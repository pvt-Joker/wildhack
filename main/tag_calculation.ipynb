{
 "cells": [
  {
   "cell_type": "code",
   "execution_count": 1,
   "id": "ed044161-9497-420c-b2a6-018b8a7e563b",
   "metadata": {},
   "outputs": [
    {
     "name": "stderr",
     "output_type": "stream",
     "text": [
      "[nltk_data] Downloading package stopwords to\n",
      "[nltk_data]     /Users/alexkon/nltk_data...\n",
      "[nltk_data]   Package stopwords is already up-to-date!\n"
     ]
    }
   ],
   "source": [
    "import pandas as pd\n",
    "import numpy as np\n",
    "from tqdm import tqdm\n",
    "import vaex as vx\n",
    "import sys\n",
    "import re\n",
    "from fuzzywuzzy import fuzz\n",
    "from fuzzywuzzy import process\n",
    "import nltk\n",
    "nltk.download('stopwords')\n",
    "from nltk.corpus import stopwords\n",
    "import itertools\n",
    "from tqdm.contrib.itertools import product\n",
    "import pymorphy2\n",
    "%matplotlib inline\n",
    "\n",
    "\n",
    "tqdm.pandas()"
   ]
  },
  {
   "cell_type": "code",
   "execution_count": null,
   "id": "99f81530-4398-4958-aa23-c70ac172eecb",
   "metadata": {},
   "outputs": [],
   "source": [
    "#!pip3 install vaex\n",
    "#!pip3 install autocorrect\n",
    "#!pip3 install fuzzywuzzy\n",
    "#!pip3 install python-Levenshtein\n",
    "#!pip3 install pymorphy2"
   ]
  },
  {
   "cell_type": "code",
   "execution_count": null,
   "id": "aa145a7b-2534-4587-8167-12032e5d5ab0",
   "metadata": {},
   "outputs": [],
   "source": [
    "# Объявление функции, очищающей выходные результаты тегов"
   ]
  },
  {
   "cell_type": "code",
   "execution_count": 13,
   "id": "81bb2fd2-50ab-4c46-bf3a-84d7da503883",
   "metadata": {},
   "outputs": [],
   "source": [
    "def stops(x):\n",
    "    x = x.split(' ')\n",
    "    if x[-1] in stop_words:\n",
    "        return 1\n",
    "    return 0\n",
    "\n",
    "stop_words = stopwords.words('russian')"
   ]
  },
  {
   "cell_type": "code",
   "execution_count": null,
   "id": "6c19c1bb-7a7c-4711-a901-4042989151de",
   "metadata": {},
   "outputs": [],
   "source": [
    "# Чтение входных данных"
   ]
  },
  {
   "cell_type": "code",
   "execution_count": 20,
   "id": "8bd2bee9-dd8e-438f-a311-57fb1d432b85",
   "metadata": {},
   "outputs": [
    {
     "name": "stderr",
     "output_type": "stream",
     "text": [
      "/opt/anaconda3/lib/python3.8/site-packages/numpy/lib/arraysetops.py:583: FutureWarning: elementwise comparison failed; returning scalar instead, but in the future will perform elementwise comparison\n",
      "  mask |= (ar1 == a)\n"
     ]
    }
   ],
   "source": [
    "data = pd.read_csv('data_source.csv', index_col=0)\n",
    "data.dropna(subset=['index'], inplace=True)"
   ]
  },
  {
   "cell_type": "code",
   "execution_count": null,
   "id": "4b289fb4-e3a2-4bb6-84e3-e7f009a03b33",
   "metadata": {},
   "outputs": [],
   "source": [
    "words_clear = data.loc[data.source == 'words_clear'].copy()\n",
    "double_words = data.loc[data.source == 'double_words'].copy()\n",
    "triple_words = data.loc[data.source == 'triple_words'].copy()\n",
    "words_nostop = data.loc[data.source == 'words_nostop'].copy()"
   ]
  },
  {
   "cell_type": "code",
   "execution_count": 43,
   "id": "37b44440-7edb-4f2f-8362-8c02fdff4f08",
   "metadata": {},
   "outputs": [],
   "source": [
    "source = pd.read_csv('source_req.csv', index_col=0)\n",
    "source = list(source['0'].unique())"
   ]
  },
  {
   "cell_type": "code",
   "execution_count": null,
   "id": "444dd41c-4a90-4adc-9896-cb7637edad26",
   "metadata": {},
   "outputs": [],
   "source": [
    "# Формирование списка ключевых слов"
   ]
  },
  {
   "cell_type": "markdown",
   "id": "3e15a8cf-f04a-4d7f-9b29-f39be73a9b84",
   "metadata": {},
   "source": [
    "### Запрос"
   ]
  },
  {
   "cell_type": "code",
   "execution_count": 58,
   "id": "294cbe61-219c-466f-82b3-7a4c826de0b2",
   "metadata": {},
   "outputs": [],
   "source": [
    "word_phrase = 'платье с вырезом'"
   ]
  },
  {
   "cell_type": "markdown",
   "id": "77ea3a3f-4097-40fc-8afb-5753ffca84c0",
   "metadata": {},
   "source": [
    "### ---------------------------------------"
   ]
  },
  {
   "cell_type": "code",
   "execution_count": 59,
   "id": "41793bf7-8ad2-4775-8a20-eb2c673b709c",
   "metadata": {},
   "outputs": [
    {
     "name": "stderr",
     "output_type": "stream",
     "text": [
      "100%|██████████| 123428/123428 [00:00<00:00, 415980.30it/s]\n",
      "100%|██████████| 123428/123428 [00:00<00:00, 452765.69it/s]\n"
     ]
    }
   ],
   "source": [
    "word_phrase = word_phrase.split(' ')\n",
    "sign = 0\n",
    "word_list = list(words_clear['index'])\n",
    "key_words = []\n",
    "\n",
    "#Подбор ключевых слов к каждому запросу\n",
    "for word_input in word_phrase:\n",
    "    if word_input in stop_words:\n",
    "        if word_input == 'без':\n",
    "            sign='-'\n",
    "            continue\n",
    "        else:\n",
    "            sign='+'\n",
    "            continue\n",
    "    temp = {}\n",
    "\n",
    "# Расчет похожести слов запроса с ключевыми словами\n",
    "    for i in tqdm(range(len(word_list))):\n",
    "        rat = fuzz.ratio(word_input, word_list[i])\n",
    "        if rat>50:\n",
    "            temp[word_list[i]] = rat\n",
    "    compare = pd.DataFrame.from_dict(temp, orient='index').reset_index()\n",
    "    compare.rename({0: 'simi'}, axis=1, inplace=True)\n",
    "    compare = compare.merge(words_clear, how='left', on='index')\n",
    "\n",
    "# Расчет метрики для выявления необходимого слова\n",
    "    compare['metric'] = (0.01*compare['simi'])*np.log(compare['num'])\n",
    "    compare.sort_values(by='metric', ascending=False, inplace=True)\n",
    "    key_words.append(compare['index'].iloc[0])"
   ]
  },
  {
   "cell_type": "code",
   "execution_count": 60,
   "id": "efa2b1c4-4320-4d99-8b27-7d527d6d5238",
   "metadata": {},
   "outputs": [],
   "source": [
    "# Формирование списка наиболее используемых слов в одном запросе вместе с ключевыми"
   ]
  },
  {
   "cell_type": "code",
   "execution_count": 61,
   "id": "c094beca-cdb5-4584-a89b-52e297ef3c4d",
   "metadata": {},
   "outputs": [
    {
     "name": "stderr",
     "output_type": "stream",
     "text": [
      "100%|██████████| 15148855/15148855 [00:04<00:00, 3155194.35it/s]\n",
      "100%|██████████| 15148855/15148855 [00:04<00:00, 3159625.20it/s]\n"
     ]
    }
   ],
   "source": [
    "using = {}\n",
    "top_head_dict = {1:10, 2:6, 3:3, 4:3}\n",
    "# Составление списка наиболее используемых слов для каждого ключевого\n",
    "for key_word in key_words:   \n",
    "    temp = {}\n",
    "    for i in tqdm(range(len(source))):\n",
    "        if key_word in source[i]:\n",
    "            x = source[i].split(' ')\n",
    "            for j in x:\n",
    "                if j in temp.keys():\n",
    "                    temp[j] +=1\n",
    "                else:\n",
    "                    temp[j] = 1\n",
    "    most_used = pd.DataFrame.from_dict(temp, orient='index').reset_index()\n",
    "    most_used.rename({0:'use_num'}, axis=1, inplace=True)\n",
    "    most_used.sort_values(by='use_num', ascending=False, inplace=True)\n",
    "    most_used = most_used[~most_used['index'].isin(stop_words)]\n",
    "    most_used = most_used.head(top_head_dict[len(key_words)])\n",
    "    most_used = most_used.merge(words_nostop, how='left', on='index')\n",
    "    using[key_word] = most_used"
   ]
  },
  {
   "cell_type": "code",
   "execution_count": 62,
   "id": "4f7031b4-0741-4c27-b2be-172d5e432fd2",
   "metadata": {},
   "outputs": [],
   "source": [
    "# Формирование словосочетаний-тэгов на основе совпадения и используемости с ключевыми словами"
   ]
  },
  {
   "cell_type": "code",
   "execution_count": 63,
   "id": "6649a5db-b832-4d86-b2b5-de17980524da",
   "metadata": {},
   "outputs": [
    {
     "data": {
      "application/vnd.jupyter.widget-view+json": {
       "model_id": "c757ad0c053c496988ef266630a3d858",
       "version_major": 2,
       "version_minor": 0
      },
      "text/plain": [
       "  0%|          | 0/36 [00:00<?, ?it/s]"
      ]
     },
     "metadata": {},
     "output_type": "display_data"
    },
    {
     "data": {
      "application/vnd.jupyter.widget-view+json": {
       "model_id": "23329c8f7b4d45efbfc0f21350662a89",
       "version_major": 2,
       "version_minor": 0
      },
      "text/plain": [
       "  0%|          | 0/36 [00:00<?, ?it/s]"
      ]
     },
     "metadata": {},
     "output_type": "display_data"
    }
   ],
   "source": [
    "key_list = []\n",
    "weight_list = []\n",
    "matching_list = {}\n",
    "metric_list = {}\n",
    "match_size = 1\n",
    "\n",
    "# Расчет весов для каждого ключевого слова. \n",
    "# Словосочетания составляются с помощью декартова произведения\n",
    "for key_word in using.keys():  \n",
    "    key_list.append(list(using[key_word]['index']))\n",
    "    weight_list.append(list(using[key_word]['use_num']))\n",
    "    match_size *= len(using[key_word])\n",
    "# Расчет весов для словосочетаний из ключевых слов. \n",
    "weights = list(product(*weight_list))\n",
    "max_weight = np.max(weights)\n",
    "for i in range(len(weights)):\n",
    "    weights[i] = np.sum(list(weights[i]))\n",
    "step = 0\n",
    "\n",
    "# Расчет метрик для словосочетаний и выбор наиболее релевантных\n",
    "for elem in product(*key_list):\n",
    "    cur_weight = 100*weights[step]/max_weight\n",
    "    step+=1\n",
    "# Словосочетания из двух слов\n",
    "    for row in double_words.itertuples():\n",
    "        t = fuzz.token_sort_ratio(row[1], str(' '.join(elem)))\n",
    "        if t>50:\n",
    "            metr = t*cur_weight*np.log(np.log(row[2]))\n",
    "            if row[1] in matching_list.keys():\n",
    "                if metr>metric_list[row[1]]:\n",
    "                    metric_list[row[1]] = metr\n",
    "            else:\n",
    "                matching_list[row[1]] = 1\n",
    "                metric_list[row[1]] = metr\n",
    "# Словосочетания из трех слов\n",
    "    for row in triple_words.itertuples():\n",
    "        t = fuzz.token_sort_ratio(row[1], str(' '.join(elem)))\n",
    "        if t>50:\n",
    "            metr = t*cur_weight*np.log(np.log(row[2]))\n",
    "            if row[1] in matching_list.keys():\n",
    "                if metr>metric_list[row[1]]:\n",
    "                    metric_list[row[1]] = metr\n",
    "            else:\n",
    "                matching_list[row[1]] = 1\n",
    "                metric_list[row[1]] = metr\n",
    "\n",
    "# Расчет финальной метрики\n",
    "for x in matching_list.keys():\n",
    "    matching_list[x] = matching_list[x]*metric_list[x]\n",
    "\n",
    "# Отбор лучших кандидатов\n",
    "matches = pd.DataFrame.from_dict(matching_list, orient='index').reset_index()\n",
    "matches.rename({0:'num'}, axis=1, inplace=True)\n",
    "matches.sort_values(by='num',  ascending=False, inplace=True)\n",
    "matches = matches.head(50)\n",
    "matches['flag'] = matches['index'].apply(stops)\n",
    "matches = matches.loc[matches.flag == 0].copy()"
   ]
  },
  {
   "cell_type": "code",
   "execution_count": 64,
   "id": "51c2d1c1-2d8c-4d56-a259-7b985f8d2fe7",
   "metadata": {},
   "outputs": [
    {
     "name": "stdout",
     "output_type": "stream",
     "text": [
      "Запрос:\n",
      "платье с вырезом\n",
      "\n",
      "Теги:\n"
     ]
    },
    {
     "data": {
      "text/plain": [
       "['платье с вырезом',\n",
       " 'платье летнее',\n",
       " 'вечернее платье',\n",
       " 'платье теплое',\n",
       " 'платье платье',\n",
       " 'вязаное платье',\n",
       " 'платье женское',\n",
       " 'платье нарядное',\n",
       " 'платье /',\n",
       " 'платье demur']"
      ]
     },
     "execution_count": 64,
     "metadata": {},
     "output_type": "execute_result"
    }
   ],
   "source": [
    "# Формирование ответа\n",
    "print('Запрос:')\n",
    "print(' '.join(word_phrase))\n",
    "print('\\nТеги:')\n",
    "list(matches.head(10)['index'])"
   ]
  },
  {
   "cell_type": "code",
   "execution_count": null,
   "id": "61607bfb-fc81-41b3-b5e9-0b5397deb850",
   "metadata": {},
   "outputs": [],
   "source": []
  }
 ],
 "metadata": {
  "kernelspec": {
   "display_name": "Python 3",
   "language": "python",
   "name": "python3"
  },
  "language_info": {
   "codemirror_mode": {
    "name": "ipython",
    "version": 3
   },
   "file_extension": ".py",
   "mimetype": "text/x-python",
   "name": "python",
   "nbconvert_exporter": "python",
   "pygments_lexer": "ipython3",
   "version": "3.8.8"
  }
 },
 "nbformat": 4,
 "nbformat_minor": 5
}
