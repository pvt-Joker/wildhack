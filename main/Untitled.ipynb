{
 "cells": [
  {
   "cell_type": "code",
   "execution_count": 5,
   "id": "a6fbcddf-af8c-4c78-bce3-81ca7803a199",
   "metadata": {
    "collapsed": true,
    "jupyter": {
     "outputs_hidden": true
    },
    "tags": []
   },
   "outputs": [
    {
     "name": "stdout",
     "output_type": "stream",
     "text": [
      "Collecting vaex\n",
      "  Downloading vaex-4.5.0-py3-none-any.whl (4.6 kB)\n",
      "Collecting vaex-viz<0.6,>=0.5.0\n",
      "  Downloading vaex_viz-0.5.0-py3-none-any.whl (19 kB)\n",
      "Collecting vaex-astro<0.10,>=0.9.0\n",
      "  Downloading vaex_astro-0.9.0-py3-none-any.whl (20 kB)\n",
      "Collecting vaex-hdf5<0.11,>=0.10.0\n",
      "  Downloading vaex_hdf5-0.10.0-py3-none-any.whl (15 kB)\n",
      "Collecting vaex-jupyter<0.7,>=0.6.0\n",
      "  Downloading vaex_jupyter-0.6.0-py3-none-any.whl (42 kB)\n",
      "\u001b[K     |████████████████████████████████| 42 kB 688 kB/s eta 0:00:01\n",
      "\u001b[?25hCollecting vaex-ml<0.15,>=0.14.0\n",
      "  Downloading vaex_ml-0.14.0-py3-none-any.whl (108 kB)\n",
      "\u001b[K     |████████████████████████████████| 108 kB 2.4 MB/s eta 0:00:01\n",
      "\u001b[?25hCollecting vaex-core<5,>=4.5.0\n",
      "  Downloading vaex_core-4.5.1-cp38-cp38-macosx_10_9_x86_64.whl (3.9 MB)\n",
      "\u001b[K     |████████████████████████████████| 3.9 MB 10.8 MB/s eta 0:00:01\n",
      "\u001b[?25hCollecting vaex-server<0.7,>=0.6.1\n",
      "  Downloading vaex_server-0.6.1-py3-none-any.whl (22 kB)\n",
      "Requirement already satisfied: astropy in /Users/vushechka/opt/anaconda3/lib/python3.8/site-packages (from vaex-astro<0.10,>=0.9.0->vaex) (4.2.1)\n",
      "Collecting blake3\n",
      "  Downloading blake3-0.2.1-cp38-cp38-macosx_10_7_x86_64.whl (298 kB)\n",
      "\u001b[K     |████████████████████████████████| 298 kB 90.2 MB/s eta 0:00:01\n",
      "\u001b[?25hRequirement already satisfied: pandas in /Users/vushechka/opt/anaconda3/lib/python3.8/site-packages (from vaex-core<5,>=4.5.0->vaex) (1.2.4)\n",
      "Collecting tabulate>=0.8.3\n",
      "  Downloading tabulate-0.8.9-py3-none-any.whl (25 kB)\n",
      "Requirement already satisfied: nest-asyncio>=1.3.3 in /Users/vushechka/opt/anaconda3/lib/python3.8/site-packages (from vaex-core<5,>=4.5.0->vaex) (1.5.1)\n",
      "Requirement already satisfied: filelock in /Users/vushechka/opt/anaconda3/lib/python3.8/site-packages (from vaex-core<5,>=4.5.0->vaex) (3.0.12)\n",
      "Requirement already satisfied: requests in /Users/vushechka/opt/anaconda3/lib/python3.8/site-packages (from vaex-core<5,>=4.5.0->vaex) (2.25.1)\n",
      "Requirement already satisfied: dask in /Users/vushechka/opt/anaconda3/lib/python3.8/site-packages (from vaex-core<5,>=4.5.0->vaex) (2021.4.0)\n",
      "Collecting pyarrow>=3.0\n",
      "  Downloading pyarrow-6.0.0-cp38-cp38-macosx_10_13_x86_64.whl (19.1 MB)\n",
      "\u001b[K     |████████████████████████████████| 19.1 MB 22.2 MB/s eta 0:00:01\n",
      "\u001b[?25hRequirement already satisfied: future>=0.15.2 in /Users/vushechka/opt/anaconda3/lib/python3.8/site-packages (from vaex-core<5,>=4.5.0->vaex) (0.18.2)\n",
      "Collecting aplus\n",
      "  Downloading aplus-0.11.0.tar.gz (3.7 kB)\n",
      "Requirement already satisfied: cloudpickle in /Users/vushechka/opt/anaconda3/lib/python3.8/site-packages (from vaex-core<5,>=4.5.0->vaex) (1.6.0)\n",
      "Requirement already satisfied: numpy>=1.16 in /Users/vushechka/opt/anaconda3/lib/python3.8/site-packages (from vaex-core<5,>=4.5.0->vaex) (1.20.1)\n",
      "Requirement already satisfied: six in /Users/vushechka/opt/anaconda3/lib/python3.8/site-packages (from vaex-core<5,>=4.5.0->vaex) (1.15.0)\n",
      "Collecting progressbar2\n",
      "  Downloading progressbar2-3.55.0-py2.py3-none-any.whl (26 kB)\n",
      "Collecting frozendict\n",
      "  Downloading frozendict-2.0.7-py3-none-any.whl (8.3 kB)\n",
      "Requirement already satisfied: pyyaml in /Users/vushechka/opt/anaconda3/lib/python3.8/site-packages (from vaex-core<5,>=4.5.0->vaex) (5.4.1)\n",
      "Requirement already satisfied: h5py>=2.9 in /Users/vushechka/opt/anaconda3/lib/python3.8/site-packages (from vaex-hdf5<0.11,>=0.10.0->vaex) (2.10.0)\n",
      "Collecting bqplot>=0.10.1\n",
      "  Downloading bqplot-0.12.31-py2.py3-none-any.whl (1.2 MB)\n",
      "\u001b[K     |████████████████████████████████| 1.2 MB 101.7 MB/s eta 0:00:01\n",
      "\u001b[?25hCollecting ipyvuetify<2,>=1.2.2\n",
      "  Downloading ipyvuetify-1.8.1-py2.py3-none-any.whl (11.7 MB)\n",
      "\u001b[K     |████████████████████████████████| 11.7 MB 30.2 MB/s eta 0:00:01\n",
      "\u001b[?25hCollecting ipympl\n",
      "  Downloading ipympl-0.8.2-py2.py3-none-any.whl (84 kB)\n",
      "\u001b[K     |████████████████████████████████| 84 kB 18.0 MB/s  eta 0:00:01\n",
      "\u001b[?25hCollecting xarray\n",
      "  Downloading xarray-0.20.1-py3-none-any.whl (835 kB)\n",
      "\u001b[K     |████████████████████████████████| 835 kB 121.4 MB/s eta 0:00:01\n",
      "\u001b[?25hCollecting ipyleaflet\n",
      "  Downloading ipyleaflet-0.14.0-py2.py3-none-any.whl (3.3 MB)\n",
      "\u001b[K     |████████████████████████████████| 3.3 MB 36.3 MB/s eta 0:00:01\n",
      "\u001b[?25hCollecting ipyvolume>=0.4\n",
      "  Downloading ipyvolume-0.5.2-py2.py3-none-any.whl (2.9 MB)\n",
      "\u001b[K     |████████████████████████████████| 2.9 MB 83.6 MB/s eta 0:00:01\n",
      "\u001b[?25hCollecting traittypes>=0.0.6\n",
      "  Downloading traittypes-0.2.1-py2.py3-none-any.whl (8.6 kB)\n",
      "Requirement already satisfied: traitlets>=4.3.0 in /Users/vushechka/opt/anaconda3/lib/python3.8/site-packages (from bqplot>=0.10.1->vaex-jupyter<0.7,>=0.6.0->vaex) (5.0.5)\n",
      "Requirement already satisfied: ipywidgets>=7.5.0 in /Users/vushechka/opt/anaconda3/lib/python3.8/site-packages (from bqplot>=0.10.1->vaex-jupyter<0.7,>=0.6.0->vaex) (7.6.3)\n",
      "Collecting pythreejs>=1.0.0\n",
      "  Downloading pythreejs-2.3.0-py2.py3-none-any.whl (3.4 MB)\n",
      "\u001b[K     |████████████████████████████████| 3.4 MB 102.2 MB/s eta 0:00:01\n",
      "\u001b[?25hRequirement already satisfied: Pillow in /Users/vushechka/opt/anaconda3/lib/python3.8/site-packages (from ipyvolume>=0.4->vaex-jupyter<0.7,>=0.6.0->vaex) (8.2.0)\n",
      "Collecting ipywebrtc\n",
      "  Downloading ipywebrtc-0.6.0-py2.py3-none-any.whl (260 kB)\n",
      "\u001b[K     |████████████████████████████████| 260 kB 79.4 MB/s eta 0:00:01\n",
      "\u001b[?25hCollecting ipyvue<2,>=1.5\n",
      "  Downloading ipyvue-1.7.0-py2.py3-none-any.whl (2.7 MB)\n",
      "\u001b[K     |████████████████████████████████| 2.7 MB 69.3 MB/s eta 0:00:01\n",
      "\u001b[?25hRequirement already satisfied: nbformat>=4.2.0 in /Users/vushechka/opt/anaconda3/lib/python3.8/site-packages (from ipywidgets>=7.5.0->bqplot>=0.10.1->vaex-jupyter<0.7,>=0.6.0->vaex) (5.1.3)\n",
      "Requirement already satisfied: jupyterlab-widgets>=1.0.0 in /Users/vushechka/opt/anaconda3/lib/python3.8/site-packages (from ipywidgets>=7.5.0->bqplot>=0.10.1->vaex-jupyter<0.7,>=0.6.0->vaex) (1.0.0)\n",
      "Requirement already satisfied: widgetsnbextension~=3.5.0 in /Users/vushechka/opt/anaconda3/lib/python3.8/site-packages (from ipywidgets>=7.5.0->bqplot>=0.10.1->vaex-jupyter<0.7,>=0.6.0->vaex) (3.5.1)\n",
      "Requirement already satisfied: ipykernel>=4.5.1 in /Users/vushechka/opt/anaconda3/lib/python3.8/site-packages (from ipywidgets>=7.5.0->bqplot>=0.10.1->vaex-jupyter<0.7,>=0.6.0->vaex) (5.3.4)\n",
      "Requirement already satisfied: ipython>=4.0.0 in /Users/vushechka/opt/anaconda3/lib/python3.8/site-packages (from ipywidgets>=7.5.0->bqplot>=0.10.1->vaex-jupyter<0.7,>=0.6.0->vaex) (7.22.0)\n",
      "Requirement already satisfied: tornado>=4.2 in /Users/vushechka/opt/anaconda3/lib/python3.8/site-packages (from ipykernel>=4.5.1->ipywidgets>=7.5.0->bqplot>=0.10.1->vaex-jupyter<0.7,>=0.6.0->vaex) (6.1)\n",
      "Requirement already satisfied: jupyter-client in /Users/vushechka/opt/anaconda3/lib/python3.8/site-packages (from ipykernel>=4.5.1->ipywidgets>=7.5.0->bqplot>=0.10.1->vaex-jupyter<0.7,>=0.6.0->vaex) (6.1.12)\n",
      "Requirement already satisfied: appnope in /Users/vushechka/opt/anaconda3/lib/python3.8/site-packages (from ipykernel>=4.5.1->ipywidgets>=7.5.0->bqplot>=0.10.1->vaex-jupyter<0.7,>=0.6.0->vaex) (0.1.2)\n",
      "Requirement already satisfied: pickleshare in /Users/vushechka/opt/anaconda3/lib/python3.8/site-packages (from ipython>=4.0.0->ipywidgets>=7.5.0->bqplot>=0.10.1->vaex-jupyter<0.7,>=0.6.0->vaex) (0.7.5)\n",
      "Requirement already satisfied: pexpect>4.3 in /Users/vushechka/opt/anaconda3/lib/python3.8/site-packages (from ipython>=4.0.0->ipywidgets>=7.5.0->bqplot>=0.10.1->vaex-jupyter<0.7,>=0.6.0->vaex) (4.8.0)\n",
      "Requirement already satisfied: decorator in /Users/vushechka/opt/anaconda3/lib/python3.8/site-packages (from ipython>=4.0.0->ipywidgets>=7.5.0->bqplot>=0.10.1->vaex-jupyter<0.7,>=0.6.0->vaex) (5.0.6)\n",
      "Requirement already satisfied: prompt-toolkit!=3.0.0,!=3.0.1,<3.1.0,>=2.0.0 in /Users/vushechka/opt/anaconda3/lib/python3.8/site-packages (from ipython>=4.0.0->ipywidgets>=7.5.0->bqplot>=0.10.1->vaex-jupyter<0.7,>=0.6.0->vaex) (3.0.17)\n",
      "Requirement already satisfied: pygments in /Users/vushechka/opt/anaconda3/lib/python3.8/site-packages (from ipython>=4.0.0->ipywidgets>=7.5.0->bqplot>=0.10.1->vaex-jupyter<0.7,>=0.6.0->vaex) (2.8.1)\n",
      "Requirement already satisfied: setuptools>=18.5 in /Users/vushechka/opt/anaconda3/lib/python3.8/site-packages (from ipython>=4.0.0->ipywidgets>=7.5.0->bqplot>=0.10.1->vaex-jupyter<0.7,>=0.6.0->vaex) (52.0.0.post20210125)\n",
      "Requirement already satisfied: backcall in /Users/vushechka/opt/anaconda3/lib/python3.8/site-packages (from ipython>=4.0.0->ipywidgets>=7.5.0->bqplot>=0.10.1->vaex-jupyter<0.7,>=0.6.0->vaex) (0.2.0)\n",
      "Requirement already satisfied: jedi>=0.16 in /Users/vushechka/opt/anaconda3/lib/python3.8/site-packages (from ipython>=4.0.0->ipywidgets>=7.5.0->bqplot>=0.10.1->vaex-jupyter<0.7,>=0.6.0->vaex) (0.17.2)\n",
      "Requirement already satisfied: parso<0.8.0,>=0.7.0 in /Users/vushechka/opt/anaconda3/lib/python3.8/site-packages (from jedi>=0.16->ipython>=4.0.0->ipywidgets>=7.5.0->bqplot>=0.10.1->vaex-jupyter<0.7,>=0.6.0->vaex) (0.7.0)\n",
      "Requirement already satisfied: jupyter-core in /Users/vushechka/opt/anaconda3/lib/python3.8/site-packages (from nbformat>=4.2.0->ipywidgets>=7.5.0->bqplot>=0.10.1->vaex-jupyter<0.7,>=0.6.0->vaex) (4.7.1)\n",
      "Requirement already satisfied: ipython-genutils in /Users/vushechka/opt/anaconda3/lib/python3.8/site-packages (from nbformat>=4.2.0->ipywidgets>=7.5.0->bqplot>=0.10.1->vaex-jupyter<0.7,>=0.6.0->vaex) (0.2.0)\n",
      "Requirement already satisfied: jsonschema!=2.5.0,>=2.4 in /Users/vushechka/opt/anaconda3/lib/python3.8/site-packages (from nbformat>=4.2.0->ipywidgets>=7.5.0->bqplot>=0.10.1->vaex-jupyter<0.7,>=0.6.0->vaex) (3.2.0)\n",
      "Requirement already satisfied: pyrsistent>=0.14.0 in /Users/vushechka/opt/anaconda3/lib/python3.8/site-packages (from jsonschema!=2.5.0,>=2.4->nbformat>=4.2.0->ipywidgets>=7.5.0->bqplot>=0.10.1->vaex-jupyter<0.7,>=0.6.0->vaex) (0.17.3)\n",
      "Requirement already satisfied: attrs>=17.4.0 in /Users/vushechka/opt/anaconda3/lib/python3.8/site-packages (from jsonschema!=2.5.0,>=2.4->nbformat>=4.2.0->ipywidgets>=7.5.0->bqplot>=0.10.1->vaex-jupyter<0.7,>=0.6.0->vaex) (20.3.0)\n",
      "Requirement already satisfied: python-dateutil>=2.7.3 in /Users/vushechka/opt/anaconda3/lib/python3.8/site-packages (from pandas->vaex-core<5,>=4.5.0->vaex) (2.8.1)\n",
      "Requirement already satisfied: pytz>=2017.3 in /Users/vushechka/opt/anaconda3/lib/python3.8/site-packages (from pandas->vaex-core<5,>=4.5.0->vaex) (2021.1)\n",
      "Requirement already satisfied: ptyprocess>=0.5 in /Users/vushechka/opt/anaconda3/lib/python3.8/site-packages (from pexpect>4.3->ipython>=4.0.0->ipywidgets>=7.5.0->bqplot>=0.10.1->vaex-jupyter<0.7,>=0.6.0->vaex) (0.7.0)\n",
      "Requirement already satisfied: wcwidth in /Users/vushechka/opt/anaconda3/lib/python3.8/site-packages (from prompt-toolkit!=3.0.0,!=3.0.1,<3.1.0,>=2.0.0->ipython>=4.0.0->ipywidgets>=7.5.0->bqplot>=0.10.1->vaex-jupyter<0.7,>=0.6.0->vaex) (0.2.5)\n",
      "Collecting ipydatawidgets>=1.1.1\n",
      "  Downloading ipydatawidgets-4.2.0-py2.py3-none-any.whl (275 kB)\n",
      "\u001b[K     |████████████████████████████████| 275 kB 116.1 MB/s eta 0:00:01\n",
      "\u001b[?25hRequirement already satisfied: numba in /Users/vushechka/opt/anaconda3/lib/python3.8/site-packages (from vaex-ml<0.15,>=0.14.0->vaex) (0.53.1)\n",
      "Requirement already satisfied: jinja2 in /Users/vushechka/opt/anaconda3/lib/python3.8/site-packages (from vaex-ml<0.15,>=0.14.0->vaex) (2.11.3)\n",
      "Collecting fastapi\n",
      "  Downloading fastapi-0.70.0-py3-none-any.whl (51 kB)\n",
      "\u001b[K     |████████████████████████████████| 51 kB 4.3 MB/s  eta 0:00:01\n",
      "\u001b[?25hCollecting uvicorn[standard]\n",
      "  Downloading uvicorn-0.15.0-py3-none-any.whl (54 kB)\n",
      "\u001b[K     |████████████████████████████████| 54 kB 19.5 MB/s eta 0:00:01\n",
      "\u001b[?25hCollecting cachetools\n",
      "  Downloading cachetools-4.2.4-py3-none-any.whl (10 kB)\n",
      "Requirement already satisfied: matplotlib>=1.3.1 in /Users/vushechka/opt/anaconda3/lib/python3.8/site-packages (from vaex-viz<0.6,>=0.5.0->vaex) (3.3.4)\n",
      "Requirement already satisfied: cycler>=0.10 in /Users/vushechka/opt/anaconda3/lib/python3.8/site-packages (from matplotlib>=1.3.1->vaex-viz<0.6,>=0.5.0->vaex) (0.10.0)\n",
      "Requirement already satisfied: kiwisolver>=1.0.1 in /Users/vushechka/opt/anaconda3/lib/python3.8/site-packages (from matplotlib>=1.3.1->vaex-viz<0.6,>=0.5.0->vaex) (1.3.1)\n",
      "Requirement already satisfied: pyparsing!=2.0.4,!=2.1.2,!=2.1.6,>=2.0.3 in /Users/vushechka/opt/anaconda3/lib/python3.8/site-packages (from matplotlib>=1.3.1->vaex-viz<0.6,>=0.5.0->vaex) (2.4.7)\n",
      "Requirement already satisfied: notebook>=4.4.1 in /Users/vushechka/opt/anaconda3/lib/python3.8/site-packages (from widgetsnbextension~=3.5.0->ipywidgets>=7.5.0->bqplot>=0.10.1->vaex-jupyter<0.7,>=0.6.0->vaex) (6.3.0)\n",
      "Requirement already satisfied: argon2-cffi in /Users/vushechka/opt/anaconda3/lib/python3.8/site-packages (from notebook>=4.4.1->widgetsnbextension~=3.5.0->ipywidgets>=7.5.0->bqplot>=0.10.1->vaex-jupyter<0.7,>=0.6.0->vaex) (20.1.0)\n",
      "Requirement already satisfied: prometheus-client in /Users/vushechka/opt/anaconda3/lib/python3.8/site-packages (from notebook>=4.4.1->widgetsnbextension~=3.5.0->ipywidgets>=7.5.0->bqplot>=0.10.1->vaex-jupyter<0.7,>=0.6.0->vaex) (0.10.1)\n",
      "Requirement already satisfied: nbconvert in /Users/vushechka/opt/anaconda3/lib/python3.8/site-packages (from notebook>=4.4.1->widgetsnbextension~=3.5.0->ipywidgets>=7.5.0->bqplot>=0.10.1->vaex-jupyter<0.7,>=0.6.0->vaex) (6.0.7)\n",
      "Requirement already satisfied: Send2Trash>=1.5.0 in /Users/vushechka/opt/anaconda3/lib/python3.8/site-packages (from notebook>=4.4.1->widgetsnbextension~=3.5.0->ipywidgets>=7.5.0->bqplot>=0.10.1->vaex-jupyter<0.7,>=0.6.0->vaex) (1.5.0)\n",
      "Requirement already satisfied: pyzmq>=17 in /Users/vushechka/opt/anaconda3/lib/python3.8/site-packages (from notebook>=4.4.1->widgetsnbextension~=3.5.0->ipywidgets>=7.5.0->bqplot>=0.10.1->vaex-jupyter<0.7,>=0.6.0->vaex) (20.0.0)\n",
      "Requirement already satisfied: terminado>=0.8.3 in /Users/vushechka/opt/anaconda3/lib/python3.8/site-packages (from notebook>=4.4.1->widgetsnbextension~=3.5.0->ipywidgets>=7.5.0->bqplot>=0.10.1->vaex-jupyter<0.7,>=0.6.0->vaex) (0.9.4)\n",
      "Requirement already satisfied: cffi>=1.0.0 in /Users/vushechka/opt/anaconda3/lib/python3.8/site-packages (from argon2-cffi->notebook>=4.4.1->widgetsnbextension~=3.5.0->ipywidgets>=7.5.0->bqplot>=0.10.1->vaex-jupyter<0.7,>=0.6.0->vaex) (1.14.5)\n",
      "Requirement already satisfied: pycparser in /Users/vushechka/opt/anaconda3/lib/python3.8/site-packages (from cffi>=1.0.0->argon2-cffi->notebook>=4.4.1->widgetsnbextension~=3.5.0->ipywidgets>=7.5.0->bqplot>=0.10.1->vaex-jupyter<0.7,>=0.6.0->vaex) (2.20)\n",
      "Requirement already satisfied: pyerfa in /Users/vushechka/opt/anaconda3/lib/python3.8/site-packages (from astropy->vaex-astro<0.10,>=0.9.0->vaex) (1.7.3)\n",
      "Requirement already satisfied: partd>=0.3.10 in /Users/vushechka/opt/anaconda3/lib/python3.8/site-packages (from dask->vaex-core<5,>=4.5.0->vaex) (1.2.0)\n",
      "Requirement already satisfied: fsspec>=0.6.0 in /Users/vushechka/opt/anaconda3/lib/python3.8/site-packages (from dask->vaex-core<5,>=4.5.0->vaex) (0.9.0)\n",
      "Requirement already satisfied: toolz>=0.8.2 in /Users/vushechka/opt/anaconda3/lib/python3.8/site-packages (from dask->vaex-core<5,>=4.5.0->vaex) (0.11.1)\n",
      "Requirement already satisfied: locket in /Users/vushechka/opt/anaconda3/lib/python3.8/site-packages/locket-0.2.1-py3.8.egg (from partd>=0.3.10->dask->vaex-core<5,>=4.5.0->vaex) (0.2.1)\n",
      "Collecting pydantic!=1.7,!=1.7.1,!=1.7.2,!=1.7.3,!=1.8,!=1.8.1,<2.0.0,>=1.6.2\n",
      "  Downloading pydantic-1.8.2-cp38-cp38-macosx_10_9_x86_64.whl (2.6 MB)\n",
      "\u001b[K     |████████████████████████████████| 2.6 MB 120.4 MB/s eta 0:00:01\n",
      "\u001b[?25hCollecting starlette==0.16.0\n",
      "  Downloading starlette-0.16.0-py3-none-any.whl (61 kB)\n",
      "\u001b[K     |████████████████████████████████| 61 kB 1.7 MB/s  eta 0:00:01\n",
      "\u001b[?25hCollecting anyio<4,>=3.0.0\n",
      "  Downloading anyio-3.3.4-py3-none-any.whl (78 kB)\n",
      "\u001b[K     |████████████████████████████████| 78 kB 37.7 MB/s  eta 0:00:01\n",
      "\u001b[?25hRequirement already satisfied: sniffio>=1.1 in /Users/vushechka/opt/anaconda3/lib/python3.8/site-packages (from anyio<4,>=3.0.0->starlette==0.16.0->fastapi->vaex-server<0.7,>=0.6.1->vaex) (1.2.0)\n",
      "Requirement already satisfied: idna>=2.8 in /Users/vushechka/opt/anaconda3/lib/python3.8/site-packages (from anyio<4,>=3.0.0->starlette==0.16.0->fastapi->vaex-server<0.7,>=0.6.1->vaex) (2.10)\n",
      "Requirement already satisfied: typing-extensions>=3.7.4.3 in /Users/vushechka/opt/anaconda3/lib/python3.8/site-packages (from pydantic!=1.7,!=1.7.1,!=1.7.2,!=1.7.3,!=1.8,!=1.8.1,<2.0.0,>=1.6.2->fastapi->vaex-server<0.7,>=0.6.1->vaex) (3.7.4.3)\n",
      "Requirement already satisfied: MarkupSafe>=0.23 in /Users/vushechka/opt/anaconda3/lib/python3.8/site-packages (from jinja2->vaex-ml<0.15,>=0.14.0->vaex) (1.1.1)\n",
      "Requirement already satisfied: pandocfilters>=1.4.1 in /Users/vushechka/opt/anaconda3/lib/python3.8/site-packages (from nbconvert->notebook>=4.4.1->widgetsnbextension~=3.5.0->ipywidgets>=7.5.0->bqplot>=0.10.1->vaex-jupyter<0.7,>=0.6.0->vaex) (1.4.3)\n",
      "Requirement already satisfied: entrypoints>=0.2.2 in /Users/vushechka/opt/anaconda3/lib/python3.8/site-packages (from nbconvert->notebook>=4.4.1->widgetsnbextension~=3.5.0->ipywidgets>=7.5.0->bqplot>=0.10.1->vaex-jupyter<0.7,>=0.6.0->vaex) (0.3)\n",
      "Requirement already satisfied: bleach in /Users/vushechka/opt/anaconda3/lib/python3.8/site-packages (from nbconvert->notebook>=4.4.1->widgetsnbextension~=3.5.0->ipywidgets>=7.5.0->bqplot>=0.10.1->vaex-jupyter<0.7,>=0.6.0->vaex) (3.3.0)\n",
      "Requirement already satisfied: mistune<2,>=0.8.1 in /Users/vushechka/opt/anaconda3/lib/python3.8/site-packages (from nbconvert->notebook>=4.4.1->widgetsnbextension~=3.5.0->ipywidgets>=7.5.0->bqplot>=0.10.1->vaex-jupyter<0.7,>=0.6.0->vaex) (0.8.4)\n",
      "Requirement already satisfied: defusedxml in /Users/vushechka/opt/anaconda3/lib/python3.8/site-packages (from nbconvert->notebook>=4.4.1->widgetsnbextension~=3.5.0->ipywidgets>=7.5.0->bqplot>=0.10.1->vaex-jupyter<0.7,>=0.6.0->vaex) (0.7.1)\n",
      "Requirement already satisfied: jupyterlab-pygments in /Users/vushechka/opt/anaconda3/lib/python3.8/site-packages (from nbconvert->notebook>=4.4.1->widgetsnbextension~=3.5.0->ipywidgets>=7.5.0->bqplot>=0.10.1->vaex-jupyter<0.7,>=0.6.0->vaex) (0.1.2)\n",
      "Requirement already satisfied: nbclient<0.6.0,>=0.5.0 in /Users/vushechka/opt/anaconda3/lib/python3.8/site-packages (from nbconvert->notebook>=4.4.1->widgetsnbextension~=3.5.0->ipywidgets>=7.5.0->bqplot>=0.10.1->vaex-jupyter<0.7,>=0.6.0->vaex) (0.5.3)\n",
      "Requirement already satisfied: testpath in /Users/vushechka/opt/anaconda3/lib/python3.8/site-packages (from nbconvert->notebook>=4.4.1->widgetsnbextension~=3.5.0->ipywidgets>=7.5.0->bqplot>=0.10.1->vaex-jupyter<0.7,>=0.6.0->vaex) (0.4.4)\n",
      "Requirement already satisfied: async-generator in /Users/vushechka/opt/anaconda3/lib/python3.8/site-packages (from nbclient<0.6.0,>=0.5.0->nbconvert->notebook>=4.4.1->widgetsnbextension~=3.5.0->ipywidgets>=7.5.0->bqplot>=0.10.1->vaex-jupyter<0.7,>=0.6.0->vaex) (1.10)\n",
      "Requirement already satisfied: packaging in /Users/vushechka/opt/anaconda3/lib/python3.8/site-packages (from bleach->nbconvert->notebook>=4.4.1->widgetsnbextension~=3.5.0->ipywidgets>=7.5.0->bqplot>=0.10.1->vaex-jupyter<0.7,>=0.6.0->vaex) (20.9)\n",
      "Requirement already satisfied: webencodings in /Users/vushechka/opt/anaconda3/lib/python3.8/site-packages (from bleach->nbconvert->notebook>=4.4.1->widgetsnbextension~=3.5.0->ipywidgets>=7.5.0->bqplot>=0.10.1->vaex-jupyter<0.7,>=0.6.0->vaex) (0.5.1)\n",
      "Requirement already satisfied: llvmlite<0.37,>=0.36.0rc1 in /Users/vushechka/opt/anaconda3/lib/python3.8/site-packages (from numba->vaex-ml<0.15,>=0.14.0->vaex) (0.36.0)\n",
      "Collecting python-utils>=2.3.0\n",
      "  Downloading python_utils-2.5.6-py2.py3-none-any.whl (12 kB)\n",
      "Requirement already satisfied: chardet<5,>=3.0.2 in /Users/vushechka/opt/anaconda3/lib/python3.8/site-packages (from requests->vaex-core<5,>=4.5.0->vaex) (4.0.0)\n",
      "Requirement already satisfied: urllib3<1.27,>=1.21.1 in /Users/vushechka/opt/anaconda3/lib/python3.8/site-packages (from requests->vaex-core<5,>=4.5.0->vaex) (1.26.4)\n",
      "Requirement already satisfied: certifi>=2017.4.17 in /Users/vushechka/opt/anaconda3/lib/python3.8/site-packages (from requests->vaex-core<5,>=4.5.0->vaex) (2020.12.5)\n",
      "Collecting asgiref>=3.4.0\n",
      "  Downloading asgiref-3.4.1-py3-none-any.whl (25 kB)\n",
      "Requirement already satisfied: click>=7.0 in /Users/vushechka/opt/anaconda3/lib/python3.8/site-packages (from uvicorn[standard]->vaex-server<0.7,>=0.6.1->vaex) (7.1.2)\n",
      "Collecting h11>=0.8\n",
      "  Downloading h11-0.12.0-py3-none-any.whl (54 kB)\n",
      "\u001b[K     |████████████████████████████████| 54 kB 16.8 MB/s eta 0:00:01\n",
      "\u001b[?25hCollecting watchgod>=0.6\n",
      "  Downloading watchgod-0.7-py3-none-any.whl (11 kB)\n",
      "Collecting websockets>=9.1\n",
      "  Downloading websockets-10.0-cp38-cp38-macosx_10_9_x86_64.whl (94 kB)\n",
      "\u001b[K     |████████████████████████████████| 94 kB 7.3 MB/s eta 0:00:01\n",
      "\u001b[?25hCollecting httptools==0.2.*\n",
      "  Downloading httptools-0.2.0-cp38-cp38-macosx_10_14_x86_64.whl (155 kB)\n",
      "\u001b[K     |████████████████████████████████| 155 kB 916 kB/s eta 0:00:01\n",
      "\u001b[?25hCollecting python-dotenv>=0.13\n",
      "  Downloading python_dotenv-0.19.2-py2.py3-none-any.whl (17 kB)\n",
      "Collecting uvloop!=0.15.0,!=0.15.1,>=0.14.0\n",
      "  Downloading uvloop-0.16.0-cp38-cp38-macosx_10_9_x86_64.whl (1.5 MB)\n",
      "\u001b[K     |████████████████████████████████| 1.5 MB 16.8 MB/s eta 0:00:01\n",
      "\u001b[?25hBuilding wheels for collected packages: aplus\n",
      "  Building wheel for aplus (setup.py) ... \u001b[?25ldone\n",
      "\u001b[?25h  Created wheel for aplus: filename=aplus-0.11.0-py3-none-any.whl size=4411 sha256=89ce29b3a21f20965c1aed5ee1a201b107d352ecc29a32b90970c3bee7450d73\n",
      "  Stored in directory: /Users/vushechka/Library/Caches/pip/wheels/de/93/23/3db69e1003030a764c9827dc02137119ec5e6e439afd64eebb\n",
      "Successfully built aplus\n",
      "Installing collected packages: traittypes, python-utils, tabulate, pyarrow, progressbar2, ipydatawidgets, h11, frozendict, blake3, asgiref, aplus, anyio, websockets, watchgod, vaex-core, uvloop, uvicorn, starlette, pythreejs, python-dotenv, pydantic, ipywebrtc, ipyvue, httptools, xarray, vaex-viz, ipyvuetify, ipyvolume, ipympl, ipyleaflet, fastapi, cachetools, bqplot, vaex-server, vaex-ml, vaex-jupyter, vaex-hdf5, vaex-astro, vaex\n",
      "  Attempting uninstall: anyio\n",
      "    Found existing installation: anyio 2.2.0\n",
      "    Uninstalling anyio-2.2.0:\n",
      "      Successfully uninstalled anyio-2.2.0\n",
      "Successfully installed anyio-3.3.4 aplus-0.11.0 asgiref-3.4.1 blake3-0.2.1 bqplot-0.12.31 cachetools-4.2.4 fastapi-0.70.0 frozendict-2.0.7 h11-0.12.0 httptools-0.2.0 ipydatawidgets-4.2.0 ipyleaflet-0.14.0 ipympl-0.8.2 ipyvolume-0.5.2 ipyvue-1.7.0 ipyvuetify-1.8.1 ipywebrtc-0.6.0 progressbar2-3.55.0 pyarrow-6.0.0 pydantic-1.8.2 python-dotenv-0.19.2 python-utils-2.5.6 pythreejs-2.3.0 starlette-0.16.0 tabulate-0.8.9 traittypes-0.2.1 uvicorn-0.15.0 uvloop-0.16.0 vaex-4.5.0 vaex-astro-0.9.0 vaex-core-4.5.1 vaex-hdf5-0.10.0 vaex-jupyter-0.6.0 vaex-ml-0.14.0 vaex-server-0.6.1 vaex-viz-0.5.0 watchgod-0.7 websockets-10.0 xarray-0.20.1\n"
     ]
    }
   ],
   "source": [
    "!pip install vaex"
   ]
  },
  {
   "cell_type": "code",
   "execution_count": 12,
   "id": "b64ed49f-4fac-45d3-85a9-48e299027f6c",
   "metadata": {},
   "outputs": [
    {
     "name": "stdout",
     "output_type": "stream",
     "text": [
      "Collecting textblob\n",
      "  Downloading textblob-0.17.1-py2.py3-none-any.whl (636 kB)\n",
      "\u001b[K     |████████████████████████████████| 636 kB 1.7 MB/s eta 0:00:01\n",
      "\u001b[?25hRequirement already satisfied: nltk>=3.1 in /Users/vushechka/opt/anaconda3/lib/python3.8/site-packages (from textblob) (3.6.1)\n",
      "Requirement already satisfied: joblib in /Users/vushechka/opt/anaconda3/lib/python3.8/site-packages (from nltk>=3.1->textblob) (1.0.1)\n",
      "Requirement already satisfied: regex in /Users/vushechka/opt/anaconda3/lib/python3.8/site-packages (from nltk>=3.1->textblob) (2021.4.4)\n",
      "Requirement already satisfied: tqdm in /Users/vushechka/opt/anaconda3/lib/python3.8/site-packages (from nltk>=3.1->textblob) (4.59.0)\n",
      "Requirement already satisfied: click in /Users/vushechka/opt/anaconda3/lib/python3.8/site-packages (from nltk>=3.1->textblob) (7.1.2)\n",
      "Installing collected packages: textblob\n",
      "Successfully installed textblob-0.17.1\n"
     ]
    }
   ],
   "source": [
    "!pip install textblob"
   ]
  },
  {
   "cell_type": "code",
   "execution_count": 27,
   "id": "d6fa7d04-2a47-4dac-b9e4-dae6f1b134ea",
   "metadata": {},
   "outputs": [
    {
     "name": "stdout",
     "output_type": "stream",
     "text": [
      "Collecting pyspellchecker\n",
      "  Downloading pyspellchecker-0.6.2-py3-none-any.whl (2.7 MB)\n",
      "\u001b[K     |████████████████████████████████| 2.7 MB 1.6 MB/s eta 0:00:01\n",
      "\u001b[?25hInstalling collected packages: pyspellchecker\n",
      "Successfully installed pyspellchecker-0.6.2\n"
     ]
    }
   ],
   "source": [
    "!pip install pyspellchecker"
   ]
  },
  {
   "cell_type": "code",
   "execution_count": 33,
   "id": "4511cc0d",
   "metadata": {},
   "outputs": [
    {
     "name": "stderr",
     "output_type": "stream",
     "text": [
      "[nltk_data] Downloading package stopwords to\n",
      "[nltk_data]     /Users/vushechka/nltk_data...\n",
      "[nltk_data]   Unzipping corpora/stopwords.zip.\n"
     ]
    }
   ],
   "source": [
    "import pandas as pd\n",
    "from tqdm import tqdm\n",
    "import sys\n",
    "import vaex as vx\n",
    "from textblob import TextBlob\n",
    "from spellchecker import SpellChecker\n",
    "import nltk\n",
    "nltk.download('stopwords')\n",
    "from nltk.corpus import stopwords\n",
    "\n",
    "tqdm.pandas()"
   ]
  },
  {
   "cell_type": "code",
   "execution_count": 3,
   "id": "9b6d3199-abb6-4b5b-9bdc-fa9ee421d7f4",
   "metadata": {},
   "outputs": [],
   "source": [
    "def define_language(word):\n",
    "    b = TextBlob(word)\n",
    "    return b.detect_language()"
   ]
  },
  {
   "cell_type": "code",
   "execution_count": 4,
   "id": "4873120e-67b4-4289-812b-e02acebef1a7",
   "metadata": {},
   "outputs": [],
   "source": [
    "def english_transcript_to_russian(word):\n",
    "    layout = dict(zip(map(ord, \"qwertyuiop[]asdfghjkl;'zxcvbnm,./`\"\n",
    "                               'QWERTYUIOP{}ASDFGHJKL:\"ZXCVBNM<>?~'),\n",
    "                               \"йцукенгшщзхъфывапролджэячсмитьбю.ё\"\n",
    "                               'ЙЦУКЕНГШЩЗХЪФЫВАПРОЛДЖЭЯЧСМИТЬБЮ,Ё'))\n",
    "    return word.translate(layout)"
   ]
  },
  {
   "cell_type": "code",
   "execution_count": 5,
   "id": "367c5493",
   "metadata": {},
   "outputs": [],
   "source": [
    "df = vx.open(\"history_small.csv\")"
   ]
  },
  {
   "cell_type": "code",
   "execution_count": 5,
   "id": "5f12893e",
   "metadata": {},
   "outputs": [],
   "source": [
    "#df.drop(['Unnamed: 0', 'time'], inplace=True, axis=1)"
   ]
  },
  {
   "cell_type": "code",
   "execution_count": 7,
   "id": "74e1d67b-ca41-4526-ad81-149803e87218",
   "metadata": {
    "tags": []
   },
   "outputs": [],
   "source": [
    "df['language'] = df['UQ'].apply(lambda word: define_language(word))\n",
    "df.dropnan(column_names=['UQ'])\n",
    "df['UQ'] = df['UQ'].str.lower()"
   ]
  },
  {
   "cell_type": "code",
   "execution_count": 8,
   "id": "38ff7307-dd6e-4b5c-9b38-13cbd9d96ef1",
   "metadata": {},
   "outputs": [
    {
     "data": {
      "text/html": [
       "<table>\n",
       "<thead>\n",
       "<tr><th>#                            </th><th style=\"text-align: right;\">  wbuser_id</th><th>UQ                      </th><th style=\"text-align: right;\">  cnt</th><th style=\"text-align: right;\">  locale</th><th>language  </th></tr>\n",
       "</thead>\n",
       "<tbody>\n",
       "<tr><td><i style='opacity: 0.6'>0</i></td><td style=\"text-align: right;\">          1</td><td>тапочки женские домашние</td><td style=\"text-align: right;\"> 1933</td><td style=\"text-align: right;\">       1</td><td>ru        </td></tr>\n",
       "<tr><td><i style='opacity: 0.6'>1</i></td><td style=\"text-align: right;\">          2</td><td>чехол для бейджика      </td><td style=\"text-align: right;\"> 1513</td><td style=\"text-align: right;\">       1</td><td>ru        </td></tr>\n",
       "<tr><td><i style='opacity: 0.6'>2</i></td><td style=\"text-align: right;\">          3</td><td>guess                   </td><td style=\"text-align: right;\">    4</td><td style=\"text-align: right;\">       1</td><td>en        </td></tr>\n",
       "<tr><td><i style='opacity: 0.6'>3</i></td><td style=\"text-align: right;\">          4</td><td>штора для ванной        </td><td style=\"text-align: right;\">    0</td><td style=\"text-align: right;\">       1</td><td>ru        </td></tr>\n",
       "<tr><td><i style='opacity: 0.6'>4</i></td><td style=\"text-align: right;\">          4</td><td>фототфон                </td><td style=\"text-align: right;\">92272</td><td style=\"text-align: right;\">       1</td><td>mk        </td></tr>\n",
       "<tr><td><i style='opacity: 0.6'>5</i></td><td style=\"text-align: right;\">          5</td><td>7024                    </td><td style=\"text-align: right;\">   93</td><td style=\"text-align: right;\">       1</td><td>en        </td></tr>\n",
       "<tr><td><i style='opacity: 0.6'>6</i></td><td style=\"text-align: right;\">          4</td><td>туфли мужские осенние   </td><td style=\"text-align: right;\">77232</td><td style=\"text-align: right;\">       1</td><td>ru        </td></tr>\n",
       "<tr><td><i style='opacity: 0.6'>7</i></td><td style=\"text-align: right;\">          4</td><td>леггинсы женские        </td><td style=\"text-align: right;\">17898</td><td style=\"text-align: right;\">       1</td><td>ru        </td></tr>\n",
       "<tr><td><i style='opacity: 0.6'>8</i></td><td style=\"text-align: right;\">          6</td><td>чехол на айфон 11       </td><td style=\"text-align: right;\">64677</td><td style=\"text-align: right;\">       1</td><td>ru        </td></tr>\n",
       "<tr><td><i style='opacity: 0.6'>9</i></td><td style=\"text-align: right;\">          7</td><td>ботинки женские мембрана</td><td style=\"text-align: right;\">  507</td><td style=\"text-align: right;\">       1</td><td>ru        </td></tr>\n",
       "</tbody>\n",
       "</table>"
      ],
      "text/plain": [
       "  #    wbuser_id  UQ                          cnt    locale  language\n",
       "  0            1  тапочки женские домашние   1933         1  ru\n",
       "  1            2  чехол для бейджика         1513         1  ru\n",
       "  2            3  guess                         4         1  en\n",
       "  3            4  штора для ванной              0         1  ru\n",
       "  4            4  фототфон                  92272         1  mk\n",
       "  5            5  7024                         93         1  en\n",
       "  6            4  туфли мужские осенние     77232         1  ru\n",
       "  7            4  леггинсы женские          17898         1  ru\n",
       "  8            6  чехол на айфон 11         64677         1  ru\n",
       "  9            7  ботинки женские мембрана    507         1  ru"
      ]
     },
     "execution_count": 8,
     "metadata": {},
     "output_type": "execute_result"
    }
   ],
   "source": [
    "df.head()"
   ]
  },
  {
   "cell_type": "code",
   "execution_count": 9,
   "id": "171b3a7f-163f-4a0c-abc4-8fc0fda8f682",
   "metadata": {},
   "outputs": [
    {
     "data": {
      "text/plain": [
       "(83919111, 5)"
      ]
     },
     "execution_count": 9,
     "metadata": {},
     "output_type": "execute_result"
    }
   ],
   "source": [
    "df.shape"
   ]
  },
  {
   "cell_type": "code",
   "execution_count": 35,
   "id": "abf2fd32-8d3e-4652-9376-88e3555136a8",
   "metadata": {},
   "outputs": [],
   "source": [
    "stop_words = stopwords.words('russian')"
   ]
  },
  {
   "cell_type": "code",
   "execution_count": 12,
   "id": "23ce8ba7-6ec2-4682-bf88-60c887b5fc6f",
   "metadata": {},
   "outputs": [],
   "source": [
    "source = list(df['UQ'].unique())"
   ]
  },
  {
   "cell_type": "code",
   "execution_count": 36,
   "id": "80036f1b-e375-4615-bda2-89d9d4962a73",
   "metadata": {},
   "outputs": [
    {
     "name": "stderr",
     "output_type": "stream",
     "text": [
      "100%|██████████| 15148856/15148856 [01:41<00:00, 149439.13it/s]\n"
     ]
    }
   ],
   "source": [
    "words = {}\n",
    "for i in tqdm(range(len(source))):\n",
    "    if source[i]:\n",
    "        x = source[i].split(' ')\n",
    "        for j in x:\n",
    "            if j not in stop_words:\n",
    "                if j in words.keys():\n",
    "                    words[j] +=1\n",
    "                else:\n",
    "                    words[j] = 1"
   ]
  },
  {
   "cell_type": "code",
   "execution_count": 46,
   "id": "1f2012f5-b82b-4277-99e4-385ff7ea193f",
   "metadata": {
    "collapsed": true,
    "jupyter": {
     "outputs_hidden": true
    },
    "tags": []
   },
   "outputs": [
    {
     "data": {
      "text/plain": [
       "['и',\n",
       " 'в',\n",
       " 'во',\n",
       " 'не',\n",
       " 'что',\n",
       " 'он',\n",
       " 'на',\n",
       " 'я',\n",
       " 'с',\n",
       " 'со',\n",
       " 'как',\n",
       " 'а',\n",
       " 'то',\n",
       " 'все',\n",
       " 'она',\n",
       " 'так',\n",
       " 'его',\n",
       " 'но',\n",
       " 'да',\n",
       " 'ты',\n",
       " 'к',\n",
       " 'у',\n",
       " 'же',\n",
       " 'вы',\n",
       " 'за',\n",
       " 'бы',\n",
       " 'по',\n",
       " 'только',\n",
       " 'ее',\n",
       " 'мне',\n",
       " 'было',\n",
       " 'вот',\n",
       " 'от',\n",
       " 'меня',\n",
       " 'еще',\n",
       " 'нет',\n",
       " 'о',\n",
       " 'из',\n",
       " 'ему',\n",
       " 'теперь',\n",
       " 'когда',\n",
       " 'даже',\n",
       " 'ну',\n",
       " 'вдруг',\n",
       " 'ли',\n",
       " 'если',\n",
       " 'уже',\n",
       " 'или',\n",
       " 'ни',\n",
       " 'быть',\n",
       " 'был',\n",
       " 'него',\n",
       " 'до',\n",
       " 'вас',\n",
       " 'нибудь',\n",
       " 'опять',\n",
       " 'уж',\n",
       " 'вам',\n",
       " 'ведь',\n",
       " 'там',\n",
       " 'потом',\n",
       " 'себя',\n",
       " 'ничего',\n",
       " 'ей',\n",
       " 'может',\n",
       " 'они',\n",
       " 'тут',\n",
       " 'где',\n",
       " 'есть',\n",
       " 'надо',\n",
       " 'ней',\n",
       " 'для',\n",
       " 'мы',\n",
       " 'тебя',\n",
       " 'их',\n",
       " 'чем',\n",
       " 'была',\n",
       " 'сам',\n",
       " 'чтоб',\n",
       " 'без',\n",
       " 'будто',\n",
       " 'чего',\n",
       " 'раз',\n",
       " 'тоже',\n",
       " 'себе',\n",
       " 'под',\n",
       " 'будет',\n",
       " 'ж',\n",
       " 'тогда',\n",
       " 'кто',\n",
       " 'этот',\n",
       " 'того',\n",
       " 'потому',\n",
       " 'этого',\n",
       " 'какой',\n",
       " 'совсем',\n",
       " 'ним',\n",
       " 'здесь',\n",
       " 'этом',\n",
       " 'один',\n",
       " 'почти',\n",
       " 'мой',\n",
       " 'тем',\n",
       " 'чтобы',\n",
       " 'нее',\n",
       " 'сейчас',\n",
       " 'были',\n",
       " 'куда',\n",
       " 'зачем',\n",
       " 'всех',\n",
       " 'никогда',\n",
       " 'можно',\n",
       " 'при',\n",
       " 'наконец',\n",
       " 'два',\n",
       " 'об',\n",
       " 'другой',\n",
       " 'хоть',\n",
       " 'после',\n",
       " 'над',\n",
       " 'больше',\n",
       " 'тот',\n",
       " 'через',\n",
       " 'эти',\n",
       " 'нас',\n",
       " 'про',\n",
       " 'всего',\n",
       " 'них',\n",
       " 'какая',\n",
       " 'много',\n",
       " 'разве',\n",
       " 'три',\n",
       " 'эту',\n",
       " 'моя',\n",
       " 'впрочем',\n",
       " 'хорошо',\n",
       " 'свою',\n",
       " 'этой',\n",
       " 'перед',\n",
       " 'иногда',\n",
       " 'лучше',\n",
       " 'чуть',\n",
       " 'том',\n",
       " 'нельзя',\n",
       " 'такой',\n",
       " 'им',\n",
       " 'более',\n",
       " 'всегда',\n",
       " 'конечно',\n",
       " 'всю',\n",
       " 'между']"
      ]
     },
     "execution_count": 46,
     "metadata": {},
     "output_type": "execute_result"
    }
   ],
   "source": [
    "stop_words"
   ]
  },
  {
   "cell_type": "code",
   "execution_count": 41,
   "id": "f0736d62-63b1-45ac-9875-0cc16ccfc103",
   "metadata": {},
   "outputs": [
    {
     "name": "stderr",
     "output_type": "stream",
     "text": [
      "100%|██████████| 15148856/15148856 [07:07<00:00, 35401.87it/s]\n"
     ]
    }
   ],
   "source": [
    "word_pairs_2 = {}\n",
    "word_pairs_3 = {}\n",
    "for i in tqdm(range(len(source))):\n",
    "    if source[i]:        \n",
    "        for stop in stop_words:\n",
    "            print(stop)\n",
    "            quyery = source[i].replace(stop, \"\")\n",
    "            print(quyery)\n",
    "            \n",
    "        x = quyery.split(' ')\n",
    "        if len(x)>=2:\n",
    "            if len(x)==3:\n",
    "                key = ' '.join([l for l in x[:3]])\n",
    "                if key in word_pairs_3.keys():\n",
    "                    word_pairs_3[key] +=1\n",
    "                else:\n",
    "                    word_pairs_3[key] = 1\n",
    "\n",
    "                key = ' '.join([l for l in x[:2]])\n",
    "                if key in word_pairs_2.keys():\n",
    "                    word_pairs_2[key] +=1\n",
    "                else:\n",
    "                    word_pairs_2[key] = 1\n",
    "\n",
    "            elif len(x)==2:                \n",
    "                key = ' '.join([l for l in x[:2]])\n",
    "                if key in word_pairs_2.keys():\n",
    "                    word_pairs_2[key] +=1\n",
    "                else:\n",
    "                    word_pairs_2[key] = 1                    "
   ]
  },
  {
   "cell_type": "code",
   "execution_count": 42,
   "id": "5843c806-4fcd-45f6-a2d4-965c7a439a0b",
   "metadata": {},
   "outputs": [
    {
     "data": {
      "text/plain": [
       "(5287785, 5663608, 3179579)"
      ]
     },
     "execution_count": 42,
     "metadata": {},
     "output_type": "execute_result"
    }
   ],
   "source": [
    "len(word_pairs_3), len(word_pairs_2), len(words)"
   ]
  },
  {
   "cell_type": "code",
   "execution_count": 39,
   "id": "b4ec34ed-c205-4dcb-a511-28c40dbf73df",
   "metadata": {},
   "outputs": [],
   "source": [
    "words_df = pd.DataFrame.from_dict(words, orient='index').reset_index()\n",
    "words_df.rename({0:'num'}, axis=1, inplace=True)\n",
    "words_df = words_df.sort_values(by='num', ascending=False)"
   ]
  },
  {
   "cell_type": "code",
   "execution_count": 40,
   "id": "24bbbff8-c9c9-44a6-84b9-c8604b844506",
   "metadata": {},
   "outputs": [
    {
     "data": {
      "text/html": [
       "<div>\n",
       "<style scoped>\n",
       "    .dataframe tbody tr th:only-of-type {\n",
       "        vertical-align: middle;\n",
       "    }\n",
       "\n",
       "    .dataframe tbody tr th {\n",
       "        vertical-align: top;\n",
       "    }\n",
       "\n",
       "    .dataframe thead th {\n",
       "        text-align: right;\n",
       "    }\n",
       "</style>\n",
       "<table border=\"1\" class=\"dataframe\">\n",
       "  <thead>\n",
       "    <tr style=\"text-align: right;\">\n",
       "      <th></th>\n",
       "      <th>index</th>\n",
       "      <th>num</th>\n",
       "    </tr>\n",
       "  </thead>\n",
       "  <tbody>\n",
       "    <tr>\n",
       "      <th>1</th>\n",
       "      <td>женские</td>\n",
       "      <td>224880</td>\n",
       "    </tr>\n",
       "    <tr>\n",
       "      <th>146</th>\n",
       "      <td>чехол</td>\n",
       "      <td>213256</td>\n",
       "    </tr>\n",
       "    <tr>\n",
       "      <th>584</th>\n",
       "      <td>набор</td>\n",
       "      <td>182311</td>\n",
       "    </tr>\n",
       "    <tr>\n",
       "      <th>65</th>\n",
       "      <td>женская</td>\n",
       "      <td>136420</td>\n",
       "    </tr>\n",
       "    <tr>\n",
       "      <th>283</th>\n",
       "      <td>куртка</td>\n",
       "      <td>120962</td>\n",
       "    </tr>\n",
       "    <tr>\n",
       "      <th>...</th>\n",
       "      <td>...</td>\n",
       "      <td>...</td>\n",
       "    </tr>\n",
       "    <tr>\n",
       "      <th>1523455</th>\n",
       "      <td>айвон8+</td>\n",
       "      <td>1</td>\n",
       "    </tr>\n",
       "    <tr>\n",
       "      <th>1523454</th>\n",
       "      <td>хойвец</td>\n",
       "      <td>1</td>\n",
       "    </tr>\n",
       "    <tr>\n",
       "      <th>1523453</th>\n",
       "      <td>белакси</td>\n",
       "      <td>1</td>\n",
       "    </tr>\n",
       "    <tr>\n",
       "      <th>1523452</th>\n",
       "      <td>шпаликов</td>\n",
       "      <td>1</td>\n",
       "    </tr>\n",
       "    <tr>\n",
       "      <th>3179578</th>\n",
       "      <td>пуховойкомбинезон</td>\n",
       "      <td>1</td>\n",
       "    </tr>\n",
       "  </tbody>\n",
       "</table>\n",
       "<p>3179579 rows × 2 columns</p>\n",
       "</div>"
      ],
      "text/plain": [
       "                     index     num\n",
       "1                  женские  224880\n",
       "146                  чехол  213256\n",
       "584                  набор  182311\n",
       "65                 женская  136420\n",
       "283                 куртка  120962\n",
       "...                    ...     ...\n",
       "1523455            айвон8+       1\n",
       "1523454             хойвец       1\n",
       "1523453            белакси       1\n",
       "1523452           шпаликов       1\n",
       "3179578  пуховойкомбинезон       1\n",
       "\n",
       "[3179579 rows x 2 columns]"
      ]
     },
     "execution_count": 40,
     "metadata": {},
     "output_type": "execute_result"
    }
   ],
   "source": [
    "words_df"
   ]
  },
  {
   "cell_type": "code",
   "execution_count": 24,
   "id": "31a02a97-34bf-4b5a-b774-c06d9aebe3c6",
   "metadata": {},
   "outputs": [],
   "source": [
    "word_pairs_3_df = pd.DataFrame.from_dict(word_pairs_3, orient='index').reset_index()\n",
    "word_pairs_3_df.rename({0:'num'}, axis=1, inplace=True)"
   ]
  },
  {
   "cell_type": "code",
   "execution_count": 26,
   "id": "0565836b-529d-456e-a079-cbf31003084b",
   "metadata": {},
   "outputs": [
    {
     "data": {
      "text/html": [
       "<div>\n",
       "<style scoped>\n",
       "    .dataframe tbody tr th:only-of-type {\n",
       "        vertical-align: middle;\n",
       "    }\n",
       "\n",
       "    .dataframe tbody tr th {\n",
       "        vertical-align: top;\n",
       "    }\n",
       "\n",
       "    .dataframe thead th {\n",
       "        text-align: right;\n",
       "    }\n",
       "</style>\n",
       "<table border=\"1\" class=\"dataframe\">\n",
       "  <thead>\n",
       "    <tr style=\"text-align: right;\">\n",
       "      <th></th>\n",
       "      <th>index</th>\n",
       "      <th>num</th>\n",
       "    </tr>\n",
       "  </thead>\n",
       "  <tbody>\n",
       "    <tr>\n",
       "      <th>0</th>\n",
       "      <td>трикотажный топ женский</td>\n",
       "      <td>1</td>\n",
       "    </tr>\n",
       "    <tr>\n",
       "      <th>3525262</th>\n",
       "      <td>плюшевая игрушка енотик</td>\n",
       "      <td>1</td>\n",
       "    </tr>\n",
       "    <tr>\n",
       "      <th>3525261</th>\n",
       "      <td>аварийный мини молоток</td>\n",
       "      <td>1</td>\n",
       "    </tr>\n",
       "    <tr>\n",
       "      <th>3525260</th>\n",
       "      <td>полотенце 50на 30</td>\n",
       "      <td>1</td>\n",
       "    </tr>\n",
       "    <tr>\n",
       "      <th>3525259</th>\n",
       "      <td>эмблема kia cerato</td>\n",
       "      <td>1</td>\n",
       "    </tr>\n",
       "    <tr>\n",
       "      <th>...</th>\n",
       "      <td>...</td>\n",
       "      <td>...</td>\n",
       "    </tr>\n",
       "    <tr>\n",
       "      <th>1762626</th>\n",
       "      <td>черная вильветовая рубашка</td>\n",
       "      <td>1</td>\n",
       "    </tr>\n",
       "    <tr>\n",
       "      <th>1762625</th>\n",
       "      <td>маста естель тонирующие</td>\n",
       "      <td>1</td>\n",
       "    </tr>\n",
       "    <tr>\n",
       "      <th>1762624</th>\n",
       "      <td>тотем туалетная вода</td>\n",
       "      <td>1</td>\n",
       "    </tr>\n",
       "    <tr>\n",
       "      <th>1762602</th>\n",
       "      <td>криль для рыбалки</td>\n",
       "      <td>1</td>\n",
       "    </tr>\n",
       "    <tr>\n",
       "      <th>5287888</th>\n",
       "      <td>купальник слитный юбка</td>\n",
       "      <td>1</td>\n",
       "    </tr>\n",
       "  </tbody>\n",
       "</table>\n",
       "<p>5287889 rows × 2 columns</p>\n",
       "</div>"
      ],
      "text/plain": [
       "                              index  num\n",
       "0           трикотажный топ женский    1\n",
       "3525262     плюшевая игрушка енотик    1\n",
       "3525261      аварийный мини молоток    1\n",
       "3525260           полотенце 50на 30    1\n",
       "3525259          эмблема kia cerato    1\n",
       "...                             ...  ...\n",
       "1762626  черная вильветовая рубашка    1\n",
       "1762625     маста естель тонирующие    1\n",
       "1762624        тотем туалетная вода    1\n",
       "1762602           криль для рыбалки    1\n",
       "5287888      купальник слитный юбка    1\n",
       "\n",
       "[5287889 rows x 2 columns]"
      ]
     },
     "execution_count": 26,
     "metadata": {},
     "output_type": "execute_result"
    }
   ],
   "source": [
    "word_pairs_3_df.sort_values(by='num')"
   ]
  },
  {
   "cell_type": "code",
   "execution_count": 43,
   "id": "76f24aa1-191f-47d7-8021-3f96e1ea8d35",
   "metadata": {},
   "outputs": [],
   "source": [
    "word_pairs_2_df = pd.DataFrame.from_dict(word_pairs_2, orient='index').reset_index()\n",
    "word_pairs_2_df.rename({0:'num'}, axis=1, inplace=True)\n",
    "word_pairs_2_df = word_pairs_2_df.sort_values(by='num', ascending=False)"
   ]
  },
  {
   "cell_type": "code",
   "execution_count": 45,
   "id": "bd83ceea-130d-4d50-8541-cfb0ecba0ae7",
   "metadata": {},
   "outputs": [
    {
     "data": {
      "text/html": [
       "<div>\n",
       "<style scoped>\n",
       "    .dataframe tbody tr th:only-of-type {\n",
       "        vertical-align: middle;\n",
       "    }\n",
       "\n",
       "    .dataframe tbody tr th {\n",
       "        vertical-align: top;\n",
       "    }\n",
       "\n",
       "    .dataframe thead th {\n",
       "        text-align: right;\n",
       "    }\n",
       "</style>\n",
       "<table border=\"1\" class=\"dataframe\">\n",
       "  <thead>\n",
       "    <tr style=\"text-align: right;\">\n",
       "      <th></th>\n",
       "      <th>index</th>\n",
       "      <th>num</th>\n",
       "    </tr>\n",
       "  </thead>\n",
       "  <tbody>\n",
       "    <tr>\n",
       "      <th>760</th>\n",
       "      <td>чехол на</td>\n",
       "      <td>5424</td>\n",
       "    </tr>\n",
       "    <tr>\n",
       "      <th>828</th>\n",
       "      <td>набор для</td>\n",
       "      <td>5094</td>\n",
       "    </tr>\n",
       "    <tr>\n",
       "      <th>508</th>\n",
       "      <td>чехол для</td>\n",
       "      <td>4750</td>\n",
       "    </tr>\n",
       "    <tr>\n",
       "      <th>68</th>\n",
       "      <td>постельное белье</td>\n",
       "      <td>4243</td>\n",
       "    </tr>\n",
       "    <tr>\n",
       "      <th>1257</th>\n",
       "      <td>футболка с</td>\n",
       "      <td>3201</td>\n",
       "    </tr>\n",
       "    <tr>\n",
       "      <th>...</th>\n",
       "      <td>...</td>\n",
       "      <td>...</td>\n",
       "    </tr>\n",
       "    <tr>\n",
       "      <th>2217288</th>\n",
       "      <td>кружка уволься</td>\n",
       "      <td>1</td>\n",
       "    </tr>\n",
       "    <tr>\n",
       "      <th>2217287</th>\n",
       "      <td>кофта stand</td>\n",
       "      <td>1</td>\n",
       "    </tr>\n",
       "    <tr>\n",
       "      <th>2217286</th>\n",
       "      <td>jullboom куртка</td>\n",
       "      <td>1</td>\n",
       "    </tr>\n",
       "    <tr>\n",
       "      <th>2217285</th>\n",
       "      <td>коем melissa</td>\n",
       "      <td>1</td>\n",
       "    </tr>\n",
       "    <tr>\n",
       "      <th>5663607</th>\n",
       "      <td>гибридный видеорегистратор</td>\n",
       "      <td>1</td>\n",
       "    </tr>\n",
       "  </tbody>\n",
       "</table>\n",
       "<p>5663608 rows × 2 columns</p>\n",
       "</div>"
      ],
      "text/plain": [
       "                              index   num\n",
       "760                        чехол на  5424\n",
       "828                       набор для  5094\n",
       "508                       чехол для  4750\n",
       "68                 постельное белье  4243\n",
       "1257                     футболка с  3201\n",
       "...                             ...   ...\n",
       "2217288              кружка уволься     1\n",
       "2217287                 кофта stand     1\n",
       "2217286             jullboom куртка     1\n",
       "2217285                коем melissa     1\n",
       "5663607  гибридный видеорегистратор     1\n",
       "\n",
       "[5663608 rows x 2 columns]"
      ]
     },
     "execution_count": 45,
     "metadata": {},
     "output_type": "execute_result"
    }
   ],
   "source": [
    "word_pairs_2_df"
   ]
  },
  {
   "cell_type": "code",
   "execution_count": null,
   "id": "11e880de-ec70-475a-8ffa-df8206bc3297",
   "metadata": {},
   "outputs": [],
   "source": []
  },
  {
   "cell_type": "code",
   "execution_count": 7,
   "id": "fe24cccf-2861-4c0a-811a-7cfe6e5c66c9",
   "metadata": {
    "collapsed": true,
    "jupyter": {
     "outputs_hidden": true
    },
    "tags": []
   },
   "outputs": [
    {
     "data": {
      "text/plain": [
       "тапочки женские домашние                          44\n",
       "зимние сапоги для девочки                         27\n",
       "mohito для женщин                                 26\n",
       "джины на высокой талии                            15\n",
       "зимняя куртка для девочки                         14\n",
       ";knst ,jnbyrb                                      9\n",
       "ботики мужские                                     9\n",
       "видеорегистратор                                   8\n",
       "женские гриндерсы                                  7\n",
       "зимние сапоги                                      7\n",
       "ботинки мужские демисезон                          7\n",
       "зарядное устройство для ноутбука универсальное     6\n",
       "видеорегистратор с радар детектором                6\n",
       "зарядное устройство для ноутбука                   6\n",
       "Sim Sensitive System 4                             5\n",
       "лизун                                              5\n",
       "ssd 120                                            4\n",
       "женские казаки ботинки                             3\n",
       "АПЛИКАТОР КУЗНЕЦОВА                                3\n",
       "блок питания atx 550                               3\n",
       "ботинки мужские                                    3\n",
       "клей для паззлов                                   3\n",
       "АДАПТОЛ                                            3\n",
       "ботинки папе                                       3\n",
       "блок питания atx                                   3\n",
       "коннектор rj-45                                    2\n",
       "соединитель                                        2\n",
       "Reserved для женщин                                2\n",
       "вентилятор                                         2\n",
       "внешний диск                                       2\n",
       "h&m для женщин                                     2\n",
       "revcool                                            2\n",
       "женки казаки                                       2\n",
       "кулер 60                                           1\n",
       "otg                                                1\n",
       "ryzen 3                                            1\n",
       "видорегистратор                                    1\n",
       "кулер 80                                           1\n",
       "ssd 120 гб                                         1\n",
       "zara для женщин                                    1\n",
       ",kjr gbnfybz atx                                   1\n",
       "revcol                                             1\n",
       "вигантол                                           1\n",
       "dtype: int64"
      ]
     },
     "execution_count": 7,
     "metadata": {},
     "output_type": "execute_result"
    }
   ],
   "source": [
    "df[df['wbuser_id']==1]['UQ'].value_counts()"
   ]
  },
  {
   "cell_type": "code",
   "execution_count": 13,
   "id": "ebb2587c",
   "metadata": {},
   "outputs": [
    {
     "data": {
      "text/plain": [
       "29136487749"
      ]
     },
     "execution_count": 13,
     "metadata": {},
     "output_type": "execute_result"
    }
   ],
   "source": [
    "sys.getsizeof(df)"
   ]
  },
  {
   "cell_type": "code",
   "execution_count": 4,
   "id": "de7cd520",
   "metadata": {},
   "outputs": [
    {
     "data": {
      "text/plain": [
       "((83919239, 6), 16547741)"
      ]
     },
     "execution_count": 4,
     "metadata": {},
     "output_type": "execute_result"
    }
   ],
   "source": [
    "df.shape, len(df['UQ'].unique())"
   ]
  },
  {
   "cell_type": "code",
   "execution_count": 8,
   "id": "162ba261",
   "metadata": {},
   "outputs": [
    {
     "data": {
      "text/plain": [
       "8172206"
      ]
     },
     "execution_count": 8,
     "metadata": {},
     "output_type": "execute_result"
    }
   ],
   "source": [
    "len(df['wbuser_id'].unique())"
   ]
  },
  {
   "cell_type": "code",
   "execution_count": 10,
   "id": "814292ff",
   "metadata": {},
   "outputs": [],
   "source": [
    "wbuser_ids = list(df['wbuser_id'].unique())\n",
    "ids_dict = dict(zip(wbuser_ids, range(1, len(wbuser_ids) + 1)))"
   ]
  },
  {
   "cell_type": "code",
   "execution_count": 15,
   "id": "204a0021",
   "metadata": {},
   "outputs": [],
   "source": [
    "df['wbuser_id'] = df['wbuser_id'].map(ids_dict)"
   ]
  },
  {
   "cell_type": "code",
   "execution_count": 17,
   "id": "762cd8e5",
   "metadata": {
    "scrolled": true
   },
   "outputs": [
    {
     "data": {
      "text/html": [
       "<div>\n",
       "<style scoped>\n",
       "    .dataframe tbody tr th:only-of-type {\n",
       "        vertical-align: middle;\n",
       "    }\n",
       "\n",
       "    .dataframe tbody tr th {\n",
       "        vertical-align: top;\n",
       "    }\n",
       "\n",
       "    .dataframe thead th {\n",
       "        text-align: right;\n",
       "    }\n",
       "</style>\n",
       "<table border=\"1\" class=\"dataframe\">\n",
       "  <thead>\n",
       "    <tr style=\"text-align: right;\">\n",
       "      <th></th>\n",
       "      <th>wbuser_id</th>\n",
       "      <th>UQ</th>\n",
       "      <th>cnt</th>\n",
       "      <th>locale</th>\n",
       "      <th>weekday</th>\n",
       "      <th>time</th>\n",
       "    </tr>\n",
       "  </thead>\n",
       "  <tbody>\n",
       "    <tr>\n",
       "      <th>0</th>\n",
       "      <td>1</td>\n",
       "      <td>тапочки женские домашние</td>\n",
       "      <td>1933</td>\n",
       "      <td>Ru</td>\n",
       "      <td>0</td>\n",
       "      <td>10:48:53</td>\n",
       "    </tr>\n",
       "    <tr>\n",
       "      <th>1</th>\n",
       "      <td>2</td>\n",
       "      <td>чехол для бейджика</td>\n",
       "      <td>1513</td>\n",
       "      <td>Ru</td>\n",
       "      <td>0</td>\n",
       "      <td>10:48:53</td>\n",
       "    </tr>\n",
       "    <tr>\n",
       "      <th>2</th>\n",
       "      <td>3</td>\n",
       "      <td>GUESS</td>\n",
       "      <td>4</td>\n",
       "      <td>Ru</td>\n",
       "      <td>0</td>\n",
       "      <td>10:48:53</td>\n",
       "    </tr>\n",
       "    <tr>\n",
       "      <th>3</th>\n",
       "      <td>4</td>\n",
       "      <td>штора для ванной</td>\n",
       "      <td>0</td>\n",
       "      <td>Ru</td>\n",
       "      <td>0</td>\n",
       "      <td>10:48:53</td>\n",
       "    </tr>\n",
       "    <tr>\n",
       "      <th>4</th>\n",
       "      <td>4</td>\n",
       "      <td>фототфон</td>\n",
       "      <td>92272</td>\n",
       "      <td>Ru</td>\n",
       "      <td>0</td>\n",
       "      <td>10:48:53</td>\n",
       "    </tr>\n",
       "  </tbody>\n",
       "</table>\n",
       "</div>"
      ],
      "text/plain": [
       "   wbuser_id                        UQ    cnt locale  weekday      time\n",
       "0          1  тапочки женские домашние   1933     Ru        0  10:48:53\n",
       "1          2        чехол для бейджика   1513     Ru        0  10:48:53\n",
       "2          3                     GUESS      4     Ru        0  10:48:53\n",
       "3          4          штора для ванной      0     Ru        0  10:48:53\n",
       "4          4                  фототфон  92272     Ru        0  10:48:53"
      ]
     },
     "execution_count": 17,
     "metadata": {},
     "output_type": "execute_result"
    }
   ],
   "source": [
    "df.head()"
   ]
  },
  {
   "cell_type": "code",
   "execution_count": 18,
   "id": "3312f5aa",
   "metadata": {},
   "outputs": [
    {
     "data": {
      "text/plain": [
       "22339029390"
      ]
     },
     "execution_count": 18,
     "metadata": {},
     "output_type": "execute_result"
    }
   ],
   "source": [
    "sys.getsizeof(df)"
   ]
  },
  {
   "cell_type": "code",
   "execution_count": 22,
   "id": "ab3446a1",
   "metadata": {},
   "outputs": [
    {
     "data": {
      "text/plain": [
       "wbuser_id     int64\n",
       "UQ           object\n",
       "cnt           int64\n",
       "locale       object\n",
       "weekday       int64\n",
       "time         object\n",
       "dtype: object"
      ]
     },
     "execution_count": 22,
     "metadata": {},
     "output_type": "execute_result"
    }
   ],
   "source": [
    "df.dtypes"
   ]
  },
  {
   "cell_type": "code",
   "execution_count": 23,
   "id": "20837252",
   "metadata": {},
   "outputs": [],
   "source": [
    "df['time'] = pd.to_datetime(df['time'])"
   ]
  },
  {
   "cell_type": "code",
   "execution_count": 24,
   "id": "bc8105fc",
   "metadata": {},
   "outputs": [
    {
     "data": {
      "text/html": [
       "<div>\n",
       "<style scoped>\n",
       "    .dataframe tbody tr th:only-of-type {\n",
       "        vertical-align: middle;\n",
       "    }\n",
       "\n",
       "    .dataframe tbody tr th {\n",
       "        vertical-align: top;\n",
       "    }\n",
       "\n",
       "    .dataframe thead th {\n",
       "        text-align: right;\n",
       "    }\n",
       "</style>\n",
       "<table border=\"1\" class=\"dataframe\">\n",
       "  <thead>\n",
       "    <tr style=\"text-align: right;\">\n",
       "      <th></th>\n",
       "      <th>wbuser_id</th>\n",
       "      <th>UQ</th>\n",
       "      <th>cnt</th>\n",
       "      <th>locale</th>\n",
       "      <th>weekday</th>\n",
       "      <th>time</th>\n",
       "    </tr>\n",
       "  </thead>\n",
       "  <tbody>\n",
       "    <tr>\n",
       "      <th>0</th>\n",
       "      <td>1</td>\n",
       "      <td>тапочки женские домашние</td>\n",
       "      <td>1933</td>\n",
       "      <td>Ru</td>\n",
       "      <td>0</td>\n",
       "      <td>2021-11-12 10:48:53</td>\n",
       "    </tr>\n",
       "    <tr>\n",
       "      <th>1</th>\n",
       "      <td>2</td>\n",
       "      <td>чехол для бейджика</td>\n",
       "      <td>1513</td>\n",
       "      <td>Ru</td>\n",
       "      <td>0</td>\n",
       "      <td>2021-11-12 10:48:53</td>\n",
       "    </tr>\n",
       "    <tr>\n",
       "      <th>2</th>\n",
       "      <td>3</td>\n",
       "      <td>GUESS</td>\n",
       "      <td>4</td>\n",
       "      <td>Ru</td>\n",
       "      <td>0</td>\n",
       "      <td>2021-11-12 10:48:53</td>\n",
       "    </tr>\n",
       "    <tr>\n",
       "      <th>3</th>\n",
       "      <td>4</td>\n",
       "      <td>штора для ванной</td>\n",
       "      <td>0</td>\n",
       "      <td>Ru</td>\n",
       "      <td>0</td>\n",
       "      <td>2021-11-12 10:48:53</td>\n",
       "    </tr>\n",
       "    <tr>\n",
       "      <th>4</th>\n",
       "      <td>4</td>\n",
       "      <td>фототфон</td>\n",
       "      <td>92272</td>\n",
       "      <td>Ru</td>\n",
       "      <td>0</td>\n",
       "      <td>2021-11-12 10:48:53</td>\n",
       "    </tr>\n",
       "  </tbody>\n",
       "</table>\n",
       "</div>"
      ],
      "text/plain": [
       "   wbuser_id                        UQ    cnt locale  weekday  \\\n",
       "0          1  тапочки женские домашние   1933     Ru        0   \n",
       "1          2        чехол для бейджика   1513     Ru        0   \n",
       "2          3                     GUESS      4     Ru        0   \n",
       "3          4          штора для ванной      0     Ru        0   \n",
       "4          4                  фототфон  92272     Ru        0   \n",
       "\n",
       "                 time  \n",
       "0 2021-11-12 10:48:53  \n",
       "1 2021-11-12 10:48:53  \n",
       "2 2021-11-12 10:48:53  \n",
       "3 2021-11-12 10:48:53  \n",
       "4 2021-11-12 10:48:53  "
      ]
     },
     "execution_count": 24,
     "metadata": {},
     "output_type": "execute_result"
    }
   ],
   "source": [
    "df.head()"
   ]
  },
  {
   "cell_type": "code",
   "execution_count": 25,
   "id": "410df332",
   "metadata": {
    "scrolled": true
   },
   "outputs": [
    {
     "data": {
      "text/plain": [
       "wbuser_id             int64\n",
       "UQ                   object\n",
       "cnt                   int64\n",
       "locale               object\n",
       "weekday               int64\n",
       "time         datetime64[ns]\n",
       "dtype: object"
      ]
     },
     "execution_count": 25,
     "metadata": {},
     "output_type": "execute_result"
    }
   ],
   "source": [
    "df.dtypes"
   ]
  },
  {
   "cell_type": "code",
   "execution_count": 29,
   "id": "7703dc3e",
   "metadata": {},
   "outputs": [
    {
     "data": {
      "text/plain": [
       "Ru    78398477\n",
       "By     3233555\n",
       "Kz     1646093\n",
       "Am      555281\n",
       "Kg       85833\n",
       "Name: locale, dtype: int64"
      ]
     },
     "execution_count": 29,
     "metadata": {},
     "output_type": "execute_result"
    }
   ],
   "source": [
    "df['locale'].value_counts()"
   ]
  },
  {
   "cell_type": "code",
   "execution_count": 26,
   "id": "2704a221",
   "metadata": {},
   "outputs": [
    {
     "data": {
      "text/plain": [
       "17555632767"
      ]
     },
     "execution_count": 26,
     "metadata": {},
     "output_type": "execute_result"
    }
   ],
   "source": [
    "sys.getsizeof(df)"
   ]
  },
  {
   "cell_type": "code",
   "execution_count": 31,
   "id": "38084e6e",
   "metadata": {},
   "outputs": [
    {
     "data": {
      "text/plain": [
       "60.253085128980686"
      ]
     },
     "execution_count": 31,
     "metadata": {},
     "output_type": "execute_result"
    }
   ],
   "source": [
    "(17555632767/29136487749) * 100"
   ]
  },
  {
   "cell_type": "code",
   "execution_count": 30,
   "id": "3e069f53",
   "metadata": {},
   "outputs": [],
   "source": [
    "locales = list(df['locale'].unique())\n",
    "locale_dict = dict(zip(locales, range(1, len(locales) + 1)))"
   ]
  },
  {
   "cell_type": "code",
   "execution_count": 33,
   "id": "ace4a0af",
   "metadata": {},
   "outputs": [],
   "source": [
    "df['locale'] = df['locale'].map(locale_dict)"
   ]
  },
  {
   "cell_type": "code",
   "execution_count": 34,
   "id": "1faac087",
   "metadata": {},
   "outputs": [
    {
     "data": {
      "text/plain": [
       "13275751578"
      ]
     },
     "execution_count": 34,
     "metadata": {},
     "output_type": "execute_result"
    }
   ],
   "source": [
    "sys.getsizeof(df)"
   ]
  },
  {
   "cell_type": "code",
   "execution_count": 35,
   "id": "c02d84b7",
   "metadata": {},
   "outputs": [
    {
     "data": {
      "text/plain": [
       "45.564007894038774"
      ]
     },
     "execution_count": 35,
     "metadata": {},
     "output_type": "execute_result"
    }
   ],
   "source": [
    "(13275751578/29136487749) * 100"
   ]
  },
  {
   "cell_type": "code",
   "execution_count": 36,
   "id": "08e873d7",
   "metadata": {},
   "outputs": [
    {
     "data": {
      "text/plain": [
       "wbuser_id             int64\n",
       "UQ                   object\n",
       "cnt                   int64\n",
       "locale                int64\n",
       "weekday               int64\n",
       "time         datetime64[ns]\n",
       "dtype: object"
      ]
     },
     "execution_count": 36,
     "metadata": {},
     "output_type": "execute_result"
    }
   ],
   "source": [
    "df.dtypes"
   ]
  },
  {
   "cell_type": "code",
   "execution_count": 37,
   "id": "69b5ef7a",
   "metadata": {},
   "outputs": [],
   "source": [
    "df.to_csv(\"search_history_compressed.csv\")"
   ]
  },
  {
   "cell_type": "code",
   "execution_count": 45,
   "id": "358c27ab",
   "metadata": {},
   "outputs": [
    {
     "data": {
      "text/html": [
       "<div>\n",
       "<style scoped>\n",
       "    .dataframe tbody tr th:only-of-type {\n",
       "        vertical-align: middle;\n",
       "    }\n",
       "\n",
       "    .dataframe tbody tr th {\n",
       "        vertical-align: top;\n",
       "    }\n",
       "\n",
       "    .dataframe thead th {\n",
       "        text-align: right;\n",
       "    }\n",
       "</style>\n",
       "<table border=\"1\" class=\"dataframe\">\n",
       "  <thead>\n",
       "    <tr style=\"text-align: right;\">\n",
       "      <th></th>\n",
       "      <th>0</th>\n",
       "    </tr>\n",
       "  </thead>\n",
       "  <tbody>\n",
       "    <tr>\n",
       "      <th>Ru</th>\n",
       "      <td>1</td>\n",
       "    </tr>\n",
       "    <tr>\n",
       "      <th>By</th>\n",
       "      <td>2</td>\n",
       "    </tr>\n",
       "    <tr>\n",
       "      <th>Kg</th>\n",
       "      <td>3</td>\n",
       "    </tr>\n",
       "    <tr>\n",
       "      <th>Am</th>\n",
       "      <td>4</td>\n",
       "    </tr>\n",
       "    <tr>\n",
       "      <th>Kz</th>\n",
       "      <td>5</td>\n",
       "    </tr>\n",
       "  </tbody>\n",
       "</table>\n",
       "</div>"
      ],
      "text/plain": [
       "    0\n",
       "Ru  1\n",
       "By  2\n",
       "Kg  3\n",
       "Am  4\n",
       "Kz  5"
      ]
     },
     "execution_count": 45,
     "metadata": {},
     "output_type": "execute_result"
    }
   ],
   "source": [
    "locale_df = pd.DataFrame([locale_dict]).T\n",
    "locale_df.head()"
   ]
  },
  {
   "cell_type": "code",
   "execution_count": 46,
   "id": "69a85742",
   "metadata": {},
   "outputs": [],
   "source": [
    "locale_df = locale_df.reset_index()\n",
    "locale_df.rename(columns={'index': 'locale', 0: 'id'}, inplace=True)"
   ]
  },
  {
   "cell_type": "code",
   "execution_count": 47,
   "id": "888eaee7",
   "metadata": {},
   "outputs": [
    {
     "data": {
      "text/html": [
       "<div>\n",
       "<style scoped>\n",
       "    .dataframe tbody tr th:only-of-type {\n",
       "        vertical-align: middle;\n",
       "    }\n",
       "\n",
       "    .dataframe tbody tr th {\n",
       "        vertical-align: top;\n",
       "    }\n",
       "\n",
       "    .dataframe thead th {\n",
       "        text-align: right;\n",
       "    }\n",
       "</style>\n",
       "<table border=\"1\" class=\"dataframe\">\n",
       "  <thead>\n",
       "    <tr style=\"text-align: right;\">\n",
       "      <th></th>\n",
       "      <th>locale</th>\n",
       "      <th>id</th>\n",
       "    </tr>\n",
       "  </thead>\n",
       "  <tbody>\n",
       "    <tr>\n",
       "      <th>0</th>\n",
       "      <td>Ru</td>\n",
       "      <td>1</td>\n",
       "    </tr>\n",
       "    <tr>\n",
       "      <th>1</th>\n",
       "      <td>By</td>\n",
       "      <td>2</td>\n",
       "    </tr>\n",
       "    <tr>\n",
       "      <th>2</th>\n",
       "      <td>Kg</td>\n",
       "      <td>3</td>\n",
       "    </tr>\n",
       "    <tr>\n",
       "      <th>3</th>\n",
       "      <td>Am</td>\n",
       "      <td>4</td>\n",
       "    </tr>\n",
       "    <tr>\n",
       "      <th>4</th>\n",
       "      <td>Kz</td>\n",
       "      <td>5</td>\n",
       "    </tr>\n",
       "  </tbody>\n",
       "</table>\n",
       "</div>"
      ],
      "text/plain": [
       "  locale  id\n",
       "0     Ru   1\n",
       "1     By   2\n",
       "2     Kg   3\n",
       "3     Am   4\n",
       "4     Kz   5"
      ]
     },
     "execution_count": 47,
     "metadata": {},
     "output_type": "execute_result"
    }
   ],
   "source": [
    "locale_df"
   ]
  },
  {
   "cell_type": "code",
   "execution_count": 48,
   "id": "c7bb9ec0",
   "metadata": {},
   "outputs": [],
   "source": [
    "locale_df.to_csv(\"locale_dict.csv\")"
   ]
  },
  {
   "cell_type": "code",
   "execution_count": 40,
   "id": "82dc3286",
   "metadata": {},
   "outputs": [],
   "source": [
    "ids_df = ids_df.reset_index()\n",
    "# ids_df.rename(columns={})"
   ]
  },
  {
   "cell_type": "code",
   "execution_count": 42,
   "id": "7d699b2e",
   "metadata": {},
   "outputs": [],
   "source": [
    "ids_df.rename(columns={'index': 'wbuser_id', 0: 'id'}, inplace=True)"
   ]
  },
  {
   "cell_type": "code",
   "execution_count": 44,
   "id": "371a51b0",
   "metadata": {},
   "outputs": [],
   "source": [
    "ids_df.to_csv(\"wbuser_id_dict.csv\")"
   ]
  },
  {
   "cell_type": "code",
   "execution_count": 5,
   "id": "d0ef981b",
   "metadata": {},
   "outputs": [],
   "source": [
    "popularity = pd.read_csv(\"query_popularity.csv.gz\")"
   ]
  },
  {
   "cell_type": "code",
   "execution_count": 6,
   "id": "fb89ea43",
   "metadata": {},
   "outputs": [
    {
     "data": {
      "text/html": [
       "<div>\n",
       "<style scoped>\n",
       "    .dataframe tbody tr th:only-of-type {\n",
       "        vertical-align: middle;\n",
       "    }\n",
       "\n",
       "    .dataframe tbody tr th {\n",
       "        vertical-align: top;\n",
       "    }\n",
       "\n",
       "    .dataframe thead th {\n",
       "        text-align: right;\n",
       "    }\n",
       "</style>\n",
       "<table border=\"1\" class=\"dataframe\">\n",
       "  <thead>\n",
       "    <tr style=\"text-align: right;\">\n",
       "      <th></th>\n",
       "      <th>query</th>\n",
       "      <th>query_popularity</th>\n",
       "    </tr>\n",
       "  </thead>\n",
       "  <tbody>\n",
       "    <tr>\n",
       "      <th>0</th>\n",
       "      <td>ноутбук</td>\n",
       "      <td>10</td>\n",
       "    </tr>\n",
       "    <tr>\n",
       "      <th>1</th>\n",
       "      <td>куртка женская осенняя</td>\n",
       "      <td>10</td>\n",
       "    </tr>\n",
       "    <tr>\n",
       "      <th>2</th>\n",
       "      <td>ботинки женские</td>\n",
       "      <td>10</td>\n",
       "    </tr>\n",
       "    <tr>\n",
       "      <th>3</th>\n",
       "      <td>видеокарта</td>\n",
       "      <td>10</td>\n",
       "    </tr>\n",
       "    <tr>\n",
       "      <th>4</th>\n",
       "      <td>пальто женское осеннее</td>\n",
       "      <td>10</td>\n",
       "    </tr>\n",
       "  </tbody>\n",
       "</table>\n",
       "</div>"
      ],
      "text/plain": [
       "                    query  query_popularity\n",
       "0                 ноутбук                10\n",
       "1  куртка женская осенняя                10\n",
       "2         ботинки женские                10\n",
       "3              видеокарта                10\n",
       "4  пальто женское осеннее                10"
      ]
     },
     "execution_count": 6,
     "metadata": {},
     "output_type": "execute_result"
    }
   ],
   "source": [
    "popularity.head()"
   ]
  },
  {
   "cell_type": "code",
   "execution_count": 7,
   "id": "79226d0d",
   "metadata": {},
   "outputs": [
    {
     "data": {
      "text/plain": [
       "2     33820\n",
       "4     33771\n",
       "6     33748\n",
       "1     33733\n",
       "5     33729\n",
       "8     33711\n",
       "10    33700\n",
       "9     33691\n",
       "7     33686\n",
       "3     33399\n",
       "Name: query_popularity, dtype: int64"
      ]
     },
     "execution_count": 7,
     "metadata": {},
     "output_type": "execute_result"
    }
   ],
   "source": [
    "popularity['query_popularity'].value_counts()"
   ]
  },
  {
   "cell_type": "code",
   "execution_count": 5,
   "id": "00b5dd84-7f26-463a-8928-13c33b1f4d0b",
   "metadata": {},
   "outputs": [
    {
     "data": {
      "text/html": [
       "<div>\n",
       "<style scoped>\n",
       "    .dataframe tbody tr th:only-of-type {\n",
       "        vertical-align: middle;\n",
       "    }\n",
       "\n",
       "    .dataframe tbody tr th {\n",
       "        vertical-align: top;\n",
       "    }\n",
       "\n",
       "    .dataframe thead th {\n",
       "        text-align: right;\n",
       "    }\n",
       "</style>\n",
       "<table border=\"1\" class=\"dataframe\">\n",
       "  <thead>\n",
       "    <tr style=\"text-align: right;\">\n",
       "      <th></th>\n",
       "      <th>Unnamed: 0</th>\n",
       "      <th>wbuser_id</th>\n",
       "      <th>UQ</th>\n",
       "      <th>cnt</th>\n",
       "      <th>locale</th>\n",
       "      <th>weekday</th>\n",
       "      <th>time</th>\n",
       "    </tr>\n",
       "  </thead>\n",
       "  <tbody>\n",
       "    <tr>\n",
       "      <th>0</th>\n",
       "      <td>0</td>\n",
       "      <td>1</td>\n",
       "      <td>тапочки женские домашние</td>\n",
       "      <td>1933</td>\n",
       "      <td>1</td>\n",
       "      <td>0</td>\n",
       "      <td>2021-11-12 10:48:53</td>\n",
       "    </tr>\n",
       "    <tr>\n",
       "      <th>1</th>\n",
       "      <td>1</td>\n",
       "      <td>2</td>\n",
       "      <td>чехол для бейджика</td>\n",
       "      <td>1513</td>\n",
       "      <td>1</td>\n",
       "      <td>0</td>\n",
       "      <td>2021-11-12 10:48:53</td>\n",
       "    </tr>\n",
       "    <tr>\n",
       "      <th>2</th>\n",
       "      <td>2</td>\n",
       "      <td>3</td>\n",
       "      <td>GUESS</td>\n",
       "      <td>4</td>\n",
       "      <td>1</td>\n",
       "      <td>0</td>\n",
       "      <td>2021-11-12 10:48:53</td>\n",
       "    </tr>\n",
       "    <tr>\n",
       "      <th>3</th>\n",
       "      <td>3</td>\n",
       "      <td>4</td>\n",
       "      <td>штора для ванной</td>\n",
       "      <td>0</td>\n",
       "      <td>1</td>\n",
       "      <td>0</td>\n",
       "      <td>2021-11-12 10:48:53</td>\n",
       "    </tr>\n",
       "    <tr>\n",
       "      <th>4</th>\n",
       "      <td>4</td>\n",
       "      <td>4</td>\n",
       "      <td>фототфон</td>\n",
       "      <td>92272</td>\n",
       "      <td>1</td>\n",
       "      <td>0</td>\n",
       "      <td>2021-11-12 10:48:53</td>\n",
       "    </tr>\n",
       "  </tbody>\n",
       "</table>\n",
       "</div>"
      ],
      "text/plain": [
       "   Unnamed: 0  wbuser_id                        UQ    cnt  locale  weekday  \\\n",
       "0           0          1  тапочки женские домашние   1933       1        0   \n",
       "1           1          2        чехол для бейджика   1513       1        0   \n",
       "2           2          3                     GUESS      4       1        0   \n",
       "3           3          4          штора для ванной      0       1        0   \n",
       "4           4          4                  фототфон  92272       1        0   \n",
       "\n",
       "                  time  \n",
       "0  2021-11-12 10:48:53  \n",
       "1  2021-11-12 10:48:53  \n",
       "2  2021-11-12 10:48:53  \n",
       "3  2021-11-12 10:48:53  \n",
       "4  2021-11-12 10:48:53  "
      ]
     },
     "execution_count": 5,
     "metadata": {},
     "output_type": "execute_result"
    }
   ],
   "source": [
    "df.head()"
   ]
  },
  {
   "cell_type": "code",
   "execution_count": null,
   "id": "5f64631c",
   "metadata": {},
   "outputs": [],
   "source": [
    "words_dict = {}\n",
    "\n",
    "for i, r in tqdm(df.drop_duplicates('UQ').iterrows()):\n",
    "    words = set(r['UQ'].split())\n",
    "    for w in words:\n",
    "        if w not in words_dict.keys():\n",
    "            words_dict[w] += 1"
   ]
  },
  {
   "cell_type": "code",
   "execution_count": null,
   "id": "374971c4-6a20-4881-a172-c2575999ee5b",
   "metadata": {},
   "outputs": [],
   "source": []
  }
 ],
 "metadata": {
  "kernelspec": {
   "display_name": "Python 3",
   "language": "python",
   "name": "python3"
  },
  "language_info": {
   "codemirror_mode": {
    "name": "ipython",
    "version": 3
   },
   "file_extension": ".py",
   "mimetype": "text/x-python",
   "name": "python",
   "nbconvert_exporter": "python",
   "pygments_lexer": "ipython3",
   "version": "3.8.8"
  }
 },
 "nbformat": 4,
 "nbformat_minor": 5
}
