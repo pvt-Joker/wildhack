{
 "cells": [
  {
   "cell_type": "code",
   "execution_count": 1,
   "id": "98bf2f11-e902-489a-a6a7-746a6ddb63b3",
   "metadata": {},
   "outputs": [],
   "source": [
    "import pandas as pd\n",
    "import numpy as np\n",
    "from tqdm import tqdm\n",
    "import vaex as vx\n",
    "import sys\n",
    "from autocorrect import Speller\n",
    "import re\n",
    "from fuzzywuzzy import fuzz\n",
    "from fuzzywuzzy import process\n",
    "\n",
    "tqdm.pandas()"
   ]
  },
  {
   "cell_type": "code",
   "execution_count": 2,
   "id": "41783eef-cccd-4890-b1ab-c5ea1b12ccc9",
   "metadata": {},
   "outputs": [],
   "source": [
    "#!pip3 install vaex\n",
    "#!pip3 install pyspellchecker\n",
    "#!pip install textblob\n",
    "#!pip3 install autocorrect\n",
    "#!pip3 install fuzzywuzzy\n",
    "#!pip3 install python-Levenshtein"
   ]
  },
  {
   "cell_type": "code",
   "execution_count": 6,
   "id": "35f8b286-460b-4060-8fec-97eb2347b716",
   "metadata": {},
   "outputs": [
    {
     "name": "stdout",
     "output_type": "stream",
     "text": [
      "CPU times: user 1.95 ms, sys: 1.11 ms, total: 3.06 ms\n",
      "Wall time: 2.49 ms\n"
     ]
    }
   ],
   "source": [
    "%%time\n",
    "data = vx.open('history_small.csv')\n",
    "data.__delitem__('weekday')\n",
    "data.__delitem__('time')\n",
    "data.__delitem__('Unnamed: 0')"
   ]
  },
  {
   "cell_type": "code",
   "execution_count": 4,
   "id": "ef9a3336-5a78-4265-a52c-e09adfcea7ff",
   "metadata": {},
   "outputs": [
    {
     "name": "stdout",
     "output_type": "stream",
     "text": [
      "CPU times: user 52.6 s, sys: 14.9 s, total: 1min 7s\n",
      "Wall time: 1min 31s\n"
     ]
    }
   ],
   "source": [
    "# %%time\n",
    "# data = pd.read_csv('history_small.csv')"
   ]
  },
  {
   "cell_type": "code",
   "execution_count": 17,
   "id": "d3bcfb37-48ef-4ab1-b3e3-80475e1bab45",
   "metadata": {},
   "outputs": [],
   "source": [
    "data.dropnan(column_names=['UQ'])\n",
    "data['UQ'] = data['UQ'].str.lower()"
   ]
  },
  {
   "cell_type": "code",
   "execution_count": 13,
   "id": "f2148009-947f-4a7a-a505-b57673868228",
   "metadata": {},
   "outputs": [],
   "source": [
    "source = list(data['UQ'].unique())"
   ]
  },
  {
   "cell_type": "code",
   "execution_count": null,
   "id": "c2930202-fb25-42a6-9108-4a9848f0c4ef",
   "metadata": {},
   "outputs": [],
   "source": [
    "popularity = pd.read_csv('query_popularity.csv')"
   ]
  },
  {
   "cell_type": "code",
   "execution_count": 14,
   "id": "7d41ff8d-9feb-4351-ad04-cd8eb82db99c",
   "metadata": {},
   "outputs": [],
   "source": [
    "%%time\n",
    "key_source = data['UQ'].values"
   ]
  },
  {
   "cell_type": "code",
   "execution_count": 18,
   "id": "75f47f6d-286f-418a-9c18-4f0af9bc6276",
   "metadata": {},
   "outputs": [
    {
     "name": "stderr",
     "output_type": "stream",
     "text": [
      "  0%|          | 20695/15148857 [00:00<00:48, 309290.43it/s]\n"
     ]
    },
    {
     "ename": "AttributeError",
     "evalue": "'NoneType' object has no attribute 'split'",
     "output_type": "error",
     "traceback": [
      "\u001b[0;31m---------------------------------------------------------------------------\u001b[0m",
      "\u001b[0;31mAttributeError\u001b[0m                            Traceback (most recent call last)",
      "\u001b[0;32m<ipython-input-18-833872ae0739>\u001b[0m in \u001b[0;36m<module>\u001b[0;34m\u001b[0m\n\u001b[1;32m      1\u001b[0m \u001b[0mword\u001b[0m \u001b[0;34m=\u001b[0m \u001b[0;34m{\u001b[0m\u001b[0;34m}\u001b[0m\u001b[0;34m\u001b[0m\u001b[0;34m\u001b[0m\u001b[0m\n\u001b[1;32m      2\u001b[0m \u001b[0;32mfor\u001b[0m \u001b[0mi\u001b[0m \u001b[0;32min\u001b[0m \u001b[0mtqdm\u001b[0m\u001b[0;34m(\u001b[0m\u001b[0mrange\u001b[0m\u001b[0;34m(\u001b[0m\u001b[0mlen\u001b[0m\u001b[0;34m(\u001b[0m\u001b[0msource\u001b[0m\u001b[0;34m)\u001b[0m\u001b[0;34m)\u001b[0m\u001b[0;34m)\u001b[0m\u001b[0;34m:\u001b[0m\u001b[0;34m\u001b[0m\u001b[0;34m\u001b[0m\u001b[0m\n\u001b[0;32m----> 3\u001b[0;31m     \u001b[0mx\u001b[0m \u001b[0;34m=\u001b[0m \u001b[0msource\u001b[0m\u001b[0;34m[\u001b[0m\u001b[0mi\u001b[0m\u001b[0;34m]\u001b[0m\u001b[0;34m.\u001b[0m\u001b[0msplit\u001b[0m\u001b[0;34m(\u001b[0m\u001b[0;34m' '\u001b[0m\u001b[0;34m)\u001b[0m\u001b[0;34m\u001b[0m\u001b[0;34m\u001b[0m\u001b[0m\n\u001b[0m\u001b[1;32m      4\u001b[0m     \u001b[0;32mfor\u001b[0m \u001b[0mj\u001b[0m \u001b[0;32min\u001b[0m \u001b[0mx\u001b[0m\u001b[0;34m:\u001b[0m\u001b[0;34m\u001b[0m\u001b[0;34m\u001b[0m\u001b[0m\n\u001b[1;32m      5\u001b[0m         \u001b[0;32mif\u001b[0m \u001b[0mj\u001b[0m \u001b[0;32min\u001b[0m \u001b[0mword\u001b[0m\u001b[0;34m.\u001b[0m\u001b[0mkeys\u001b[0m\u001b[0;34m(\u001b[0m\u001b[0;34m)\u001b[0m\u001b[0;34m:\u001b[0m\u001b[0;34m\u001b[0m\u001b[0;34m\u001b[0m\u001b[0m\n",
      "\u001b[0;31mAttributeError\u001b[0m: 'NoneType' object has no attribute 'split'"
     ]
    }
   ],
   "source": [
    "word = {}\n",
    "for i in tqdm(range(len(source))):\n",
    "    x = source[i].split(' ')\n",
    "    for j in x:\n",
    "        if j in word.keys():\n",
    "            word[j] +=1\n",
    "        else:\n",
    "            word[j] = 1"
   ]
  },
  {
   "cell_type": "code",
   "execution_count": 20,
   "id": "78b1d32b-2261-4422-989a-fd88aa5d4075",
   "metadata": {},
   "outputs": [],
   "source": [
    "source[i]"
   ]
  },
  {
   "cell_type": "code",
   "execution_count": null,
   "id": "9d7205df-c515-4b4f-94e7-1af8cc3d5024",
   "metadata": {},
   "outputs": [],
   "source": [
    "double_words = {}\n",
    "triple_words = {}\n",
    "for i in tqdm(range(len(key_source))):\n",
    "    x = key_source[i].split(' ')\n",
    "    s = ''\n",
    "    if (len(x))>=2:\n",
    "        s = s.join(x[:1], ' ')\n",
    "        if s in double_words.keys():\n",
    "            double_words[s] += 1\n",
    "        else:\n",
    "            double_words[s] = 1\n",
    "        if len(x)>2:\n",
    "            s = ''\n",
    "            s = s.join(x[:2], ' ')\n",
    "            if s in triple_words.keys():\n",
    "                triple_words[s] += 1\n",
    "            else:\n",
    "                triple_words[s] = 1"
   ]
  },
  {
   "cell_type": "code",
   "execution_count": 11,
   "id": "62aa6a0c-264e-42b1-ba3b-29e96a1bccfe",
   "metadata": {},
   "outputs": [],
   "source": [
    "words = pd.DataFrame.from_dict(word, orient='index').reset_index()\n",
    "words.rename({0:'num'}, axis=1, inplace=True)"
   ]
  },
  {
   "cell_type": "code",
   "execution_count": 12,
   "id": "d177d557-21a3-4409-9879-e153024a4a0e",
   "metadata": {},
   "outputs": [
    {
     "data": {
      "text/plain": [
       "3179730"
      ]
     },
     "execution_count": 12,
     "metadata": {},
     "output_type": "execute_result"
    }
   ],
   "source": [
    "len(word.keys())"
   ]
  },
  {
   "cell_type": "code",
   "execution_count": null,
   "id": "471f85f9-d70e-4480-97aa-235487b2fff8",
   "metadata": {},
   "outputs": [],
   "source": [
    "# spellru = Speller(lang='ru')\n",
    "# spellen = Speller(lang='en')\n",
    "\n",
    "# patternen = re.compile(\"[a-z]+\")\n",
    "# patternru = re.compile(\"[а-я]+\")\n",
    "\n",
    "# misswords = list(word.keys())\n",
    "# correction = {}\n",
    "# for x in tqdm(range(len(misswords))):\n",
    "#     if len(misswords[x])<3:\n",
    "#         correction[misswords[x]] = misswords[x]\n",
    "#         continue\n",
    "#     if patternen.fullmatch(misswords[x]):\n",
    "#         correction[misswords[x]] = spellen(misswords[x])\n",
    "#     elif patternru.fullmatch(misswords[x]):\n",
    "#         correction[misswords[x]] = spellru(misswords[x])\n",
    "#     else:\n",
    "#         correction[misswords[x]] = misswords[x]"
   ]
  },
  {
   "cell_type": "code",
   "execution_count": 50,
   "id": "1088f90b-7673-44bf-9cc0-a5bbe2abd0c1",
   "metadata": {},
   "outputs": [
    {
     "name": "stderr",
     "output_type": "stream",
     "text": [
      "100%|██████████| 3179730/3179730 [00:08<00:00, 381183.97it/s]\n"
     ]
    }
   ],
   "source": [
    "word_input = 'фильтратор'\n",
    "word_list = list(word.keys())\n",
    "temp = {}\n",
    "for i in tqdm(range(len(word_list))):\n",
    "    rat = fuzz.ratio(word_input, word_list[i])\n",
    "    if rat>50:\n",
    "        temp[word_list[i]] = rat\n",
    "compare = pd.DataFrame.from_dict(temp, orient='index').reset_index()\n",
    "compare.rename({0: 'simi'}, axis=1, inplace=True)\n",
    "compare = compare.merge(words, how='left', on='index')\n",
    "compare['metric'] = (0.01*compare['simi'])*np.log(compare['num'])\n",
    "compare.sort_values(by='metric', ascending=False, inplace=True)\n",
    "key_word = compare['index'].iloc[0]"
   ]
  },
  {
   "cell_type": "code",
   "execution_count": 54,
   "id": "92769fb9-95ce-4552-8e8f-362fefcc2728",
   "metadata": {},
   "outputs": [
    {
     "name": "stderr",
     "output_type": "stream",
     "text": [
      "100%|██████████| 15148856/15148856 [00:05<00:00, 2771922.09it/s]\n"
     ]
    }
   ],
   "source": [
    "temp = {}\n",
    "for i in tqdm(range(len(source))):\n",
    "    if key_word in source[i]:\n",
    "        x = source[i].split(' ')\n",
    "        for j in x:\n",
    "            if j in temp.keys():\n",
    "                temp[j] +=1\n",
    "            else:\n",
    "                temp[j] = 1\n",
    "most_used = pd.DataFrame.from_dict(temp, orient='index').reset_index()\n",
    "most_used.rename({0:'use_num'}, axis=1, inplace=True)\n",
    "most_used.sort_values(by='use_num', ascending=False, inplace=True)\n",
    "most_used = most_used.head(100)\n",
    "most_used = most_used.merge(words, how='left', on='index')"
   ]
  },
  {
   "cell_type": "code",
   "execution_count": null,
   "id": "71910cf5-a4d5-4fa3-ae23-6f701936a124",
   "metadata": {},
   "outputs": [],
   "source": []
  }
 ],
 "metadata": {
  "kernelspec": {
   "display_name": "Python 3",
   "language": "python",
   "name": "python3"
  },
  "language_info": {
   "codemirror_mode": {
    "name": "ipython",
    "version": 3
   },
   "file_extension": ".py",
   "mimetype": "text/x-python",
   "name": "python",
   "nbconvert_exporter": "python",
   "pygments_lexer": "ipython3",
   "version": "3.8.8"
  }
 },
 "nbformat": 4,
 "nbformat_minor": 5
}
